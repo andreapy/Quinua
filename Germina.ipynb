{
 "cells": [
  {
   "cell_type": "markdown",
   "id": "bf7c0600",
   "metadata": {},
   "source": [
    "**Evento** : Germinación de la semilla\n",
    "\n",
    "**Survival**: El evento de interes no ocurre\n",
    "\n",
    "**Survival duration**: Tiempo hasta que ocurra el evento de interés (o el final de nuestras observaciones)"
   ]
  },
  {
   "cell_type": "code",
   "execution_count": 1,
   "id": "4da07cab",
   "metadata": {},
   "outputs": [],
   "source": [
    "import numpy as np\n",
    "import pandas as pd\n",
    "import seaborn as sns\n",
    "import matplotlib.pyplot as plt"
   ]
  },
  {
   "cell_type": "code",
   "execution_count": 2,
   "id": "faeb8f77",
   "metadata": {},
   "outputs": [],
   "source": [
    "# Read the Excel sheet\n",
    "df = pd.read_excel('DATOS T1 Y T9_V3-2.xlsx', sheet_name='Germina', usecols=['T1_180', 'T9_180', 'T1_250', 'T9_250', 'T1_395',\n",
    "       'T9_395', 'T1_410', 'T9_410'])#, parse_dates=['H'])"
   ]
  },
  {
   "cell_type": "code",
   "execution_count": 3,
   "id": "9ef2681e",
   "metadata": {},
   "outputs": [
    {
     "name": "stdout",
     "output_type": "stream",
     "text": [
      "<class 'pandas.core.frame.DataFrame'>\n",
      "RangeIndex: 260 entries, 0 to 259\n",
      "Data columns (total 8 columns):\n",
      " #   Column  Non-Null Count  Dtype \n",
      "---  ------  --------------  ----- \n",
      " 0   T1_180  238 non-null    object\n",
      " 1   T9_180  255 non-null    object\n",
      " 2   T1_250  258 non-null    object\n",
      " 3   T9_250  259 non-null    object\n",
      " 4   T1_395  254 non-null    object\n",
      " 5   T9_395  257 non-null    object\n",
      " 6   T1_410  260 non-null    object\n",
      " 7   T9_410  260 non-null    object\n",
      "dtypes: object(8)\n",
      "memory usage: 16.4+ KB\n"
     ]
    }
   ],
   "source": [
    "df.info()"
   ]
  },
  {
   "cell_type": "code",
   "execution_count": 4,
   "id": "f5b3ae5e",
   "metadata": {},
   "outputs": [],
   "source": [
    "# Remove 'h' from values while preserving non-string values\n",
    "for col in df.columns:\n",
    "    df[col] = df[col].apply(lambda x: x.replace(' h', '') if isinstance(x, str) else x)\n",
    "\n",
    "#df.tail(30)"
   ]
  },
  {
   "cell_type": "code",
   "execution_count": 5,
   "id": "40c567db",
   "metadata": {},
   "outputs": [],
   "source": [
    "df[['T1_180', 'T9_180', 'T1_250', 'T9_250', 'T1_395',\n",
    "       'T9_395', 'T1_410', 'T9_410']]=df[['T1_180', 'T9_180', 'T1_250', 'T9_250', 'T1_395',\n",
    "       'T9_395', 'T1_410', 'T9_410']].astype('float')"
   ]
  },
  {
   "cell_type": "code",
   "execution_count": 6,
   "id": "537472a3",
   "metadata": {},
   "outputs": [],
   "source": [
    "# Melt the DataFrame to create 'Measurement' and 'Value' columns\n",
    "melted_df = pd.melt(df, var_name=\"Measurement\", value_name=\"Time\")"
   ]
  },
  {
   "cell_type": "code",
   "execution_count": 7,
   "id": "8b60457f",
   "metadata": {},
   "outputs": [],
   "source": [
    "# Extract the measurement type (T1 or T9) from the column name\n",
    "melted_df[\"Material\"] = melted_df[\"Measurement\"].str.split(\"_\").str[0]\n",
    "melted_df[\"UV\"] = melted_df[\"Measurement\"].str.split(\"_\").str[1]"
   ]
  },
  {
   "cell_type": "code",
   "execution_count": 8,
   "id": "19f9609c",
   "metadata": {},
   "outputs": [
    {
     "name": "stdout",
     "output_type": "stream",
     "text": [
      "<class 'pandas.core.frame.DataFrame'>\n",
      "RangeIndex: 2080 entries, 0 to 2079\n",
      "Data columns (total 4 columns):\n",
      " #   Column       Non-Null Count  Dtype  \n",
      "---  ------       --------------  -----  \n",
      " 0   Measurement  2080 non-null   object \n",
      " 1   Time         2041 non-null   float64\n",
      " 2   Material     2080 non-null   object \n",
      " 3   UV           2080 non-null   object \n",
      "dtypes: float64(1), object(3)\n",
      "memory usage: 65.1+ KB\n"
     ]
    }
   ],
   "source": [
    "melted_df.info()"
   ]
  },
  {
   "cell_type": "code",
   "execution_count": 9,
   "id": "266d109a",
   "metadata": {},
   "outputs": [],
   "source": [
    "melted_df['UV']=melted_df['UV'].astype('category')\n",
    "melted_df['Time']=melted_df['Time'].astype('float')"
   ]
  },
  {
   "cell_type": "markdown",
   "id": "3afd9648",
   "metadata": {},
   "source": [
    "# EDA "
   ]
  },
  {
   "cell_type": "code",
   "execution_count": 10,
   "id": "937bf944",
   "metadata": {},
   "outputs": [
    {
     "data": {
      "text/plain": [
       "Text(0, 0.5, 'Tiempo [h]')"
      ]
     },
     "execution_count": 10,
     "metadata": {},
     "output_type": "execute_result"
    },
    {
     "data": {
      "image/png": "[encoded data removed]",
      "text/plain": [
       "<Figure size 432x288 with 1 Axes>"
      ]
     },
     "metadata": {
      "needs_background": "light"
     },
     "output_type": "display_data"
    }
   ],
   "source": [
    "sns.boxplot(data=melted_df, x=\"UV\", y=\"Time\", hue=\"Material\")\n",
    "plt.xlabel('UV')\n",
    "plt.ylabel('Tiempo [h]')\n",
    "#plt.title('Sales by Quarter')"
   ]
  },
  {
   "cell_type": "code",
   "execution_count": 11,
   "id": "d87865cb",
   "metadata": {},
   "outputs": [
    {
     "data": {
      "text/plain": [
       "Text(0, 0.5, 'Tiempo [h]')"
      ]
     },
     "execution_count": 11,
     "metadata": {},
     "output_type": "execute_result"
    },
    {
     "data": {
      "image/png": "[encoded data removed]",
      "text/plain": [
       "<Figure size 432x288 with 1 Axes>"
      ]
     },
     "metadata": {
      "needs_background": "light"
     },
     "output_type": "display_data"
    }
   ],
   "source": [
    "sns.boxplot(data=melted_df, x=\"UV\", y=\"Time\", hue=\"Material\", showfliers = False)\n",
    "plt.xlabel('UV')\n",
    "plt.ylabel('Tiempo [h]')"
   ]
  },
  {
   "cell_type": "code",
   "execution_count": 12,
   "id": "6d1e16ff",
   "metadata": {
    "scrolled": true
   },
   "outputs": [
    {
     "data": {
      "text/plain": [
       "Text(0, 0.5, 'Frecuencia')"
      ]
     },
     "execution_count": 12,
     "metadata": {},
     "output_type": "execute_result"
    },
    {
     "data": {
      "image/png": "[encoded data removed]",
      "text/plain": [
       "<Figure size 432x288 with 1 Axes>"
      ]
     },
     "metadata": {
      "needs_background": "light"
     },
     "output_type": "display_data"
    }
   ],
   "source": [
    "sns.histplot(data=melted_df,x=\"Time\", hue=\"UV\",element=\"poly\", bins=range(8,80,2))\n",
    "plt.xlabel('Tiempo[h]')\n",
    "plt.ylabel('Frecuencia')"
   ]
  },
  {
   "cell_type": "code",
   "execution_count": 13,
   "id": "c8a88eb3",
   "metadata": {
    "scrolled": true
   },
   "outputs": [
    {
     "data": {
      "text/plain": [
       "Text(0.5, 1.0, 'Material T1')"
      ]
     },
     "execution_count": 13,
     "metadata": {},
     "output_type": "execute_result"
    },
    {
     "data": {
      "image/png": "[encoded data removed]",
      "text/plain": [
       "<Figure size 432x288 with 1 Axes>"
      ]
     },
     "metadata": {
      "needs_background": "light"
     },
     "output_type": "display_data"
    }
   ],
   "source": [
    "sns.histplot(data=melted_df[melted_df['Material']=='T1'],x=\"Time\", hue=\"UV\",element=\"poly\", bins=range(8,80,2))\n",
    "plt.xlabel('Tiempo[h]')\n",
    "plt.ylabel('Frecuencia')\n",
    "plt.title('Material T1')"
   ]
  },
  {
   "cell_type": "code",
   "execution_count": 14,
   "id": "2d9379f1",
   "metadata": {},
   "outputs": [
    {
     "data": {
      "text/plain": [
       "Text(0.5, 1.0, 'Material T9')"
      ]
     },
     "execution_count": 14,
     "metadata": {},
     "output_type": "execute_result"
    },
    {
     "data": {
      "image/png": "[encoded data removed]",
      "text/plain": [
       "<Figure size 432x288 with 1 Axes>"
      ]
     },
     "metadata": {
      "needs_background": "light"
     },
     "output_type": "display_data"
    }
   ],
   "source": [
    "sns.histplot(data=melted_df[melted_df['Material']=='T9'],x=\"Time\", hue=\"UV\",element=\"poly\", bins=range(8,80,2))\n",
    "plt.xlabel('Tiempo[h]')\n",
    "plt.ylabel('Frecuencia')\n",
    "plt.title('Material T9')"
   ]
  },
  {
   "cell_type": "markdown",
   "id": "ee80c83b",
   "metadata": {},
   "source": [
    "sns.histplot(\n",
    "    melted_df, x=\"Time\", hue=\"UV\", element=\"step\",\n",
    "    stat=\"density\", common_norm=False,\n",
    ")"
   ]
  },
  {
   "cell_type": "markdown",
   "id": "a89847b2",
   "metadata": {},
   "source": [
    "sns.histplot(data=melted_df, x=\"Time\", y=\"UV\", hue=\"UV\", bins=range(2,40,2))"
   ]
  },
  {
   "cell_type": "markdown",
   "id": "e3f3aba3",
   "metadata": {},
   "source": [
    "sns.histplot(data=melted_df, x=\"Time\", y=\"UV\", hue=\"Material\", bins=range(2,40,2))"
   ]
  },
  {
   "cell_type": "markdown",
   "id": "690cff63",
   "metadata": {},
   "source": [
    "sns.histplot(data=melted_df, x=\"Time\", y=\"Material\", hue=\"UV\", bins=range(2,40,2))"
   ]
  },
  {
   "cell_type": "code",
   "execution_count": 15,
   "id": "f359fe40",
   "metadata": {},
   "outputs": [
    {
     "data": {
      "text/plain": [
       "Text(0.5, 1.0, 'Material T1')"
      ]
     },
     "execution_count": 15,
     "metadata": {},
     "output_type": "execute_result"
    },
    {
     "data": {
      "image/png": "[encoded data removed]",
      "text/plain": [
       "<Figure size 432x288 with 1 Axes>"
      ]
     },
     "metadata": {
      "needs_background": "light"
     },
     "output_type": "display_data"
    }
   ],
   "source": [
    "sns.histplot(data=melted_df[melted_df['Material']=='T1'], x=\"Time\", y=\"UV\", hue=\"UV\", bins=range(2,40,2))\n",
    "plt.xlabel('Tiempo[h]')\n",
    "plt.ylabel('UV [nm]')\n",
    "plt.title('Material T1')"
   ]
  },
  {
   "cell_type": "code",
   "execution_count": 16,
   "id": "85c2acc7",
   "metadata": {},
   "outputs": [
    {
     "data": {
      "text/plain": [
       "Text(0.5, 1.0, 'Material T9')"
      ]
     },
     "execution_count": 16,
     "metadata": {},
     "output_type": "execute_result"
    },
    {
     "data": {
      "image/png": "[encoded data removed]",
      "text/plain": [
       "<Figure size 432x288 with 1 Axes>"
      ]
     },
     "metadata": {
      "needs_background": "light"
     },
     "output_type": "display_data"
    }
   ],
   "source": [
    "sns.histplot(data=melted_df[melted_df['Material']=='T9'], x=\"Time\", y=\"UV\", hue=\"UV\", bins=range(2,40,2))\n",
    "plt.xlabel('Tiempo[h]')\n",
    "plt.ylabel('UV [nm]')\n",
    "plt.title('Material T9')"
   ]
  },
  {
   "cell_type": "code",
   "execution_count": 17,
   "id": "e71f2a29",
   "metadata": {},
   "outputs": [
    {
     "data": {
      "image/png": "[encoded data removed]",
      "text/plain": [
       "<Figure size 432x864 with 8 Axes>"
      ]
     },
     "metadata": {
      "needs_background": "light"
     },
     "output_type": "display_data"
    }
   ],
   "source": [
    "# Plot histograms grouped by 'Measurement_Type', using FacetGrid\n",
    "g = sns.FacetGrid(melted_df, col=\"Material\",row=\"UV\")\n",
    "g.map(plt.hist, \"Time\")\n",
    "#g.set_titles(col_template=\"{col_name}\")\n",
    "plt.show()"
   ]
  },
  {
   "cell_type": "code",
   "execution_count": 18,
   "id": "833eb23b",
   "metadata": {},
   "outputs": [],
   "source": [
    "# Filter the rows based on the condition\n",
    "rows_to_remove = melted_df[melted_df['Measurement'] == 'T1_180'].tail(20)\n",
    "\n",
    "# Remove the filtered rows from the DataFrame\n",
    "melted_df = melted_df.drop(rows_to_remove.index)\n",
    "\n",
    "# Print the updated DataFrame\n",
    "#print(melted_df)"
   ]
  },
  {
   "cell_type": "markdown",
   "id": "5163832b",
   "metadata": {},
   "source": []
  },
  {
   "cell_type": "code",
   "execution_count": 19,
   "id": "955c3426",
   "metadata": {},
   "outputs": [],
   "source": [
    "# Create a function to return 1 if observed 0 otherwise\n",
    "def check_observed(row):\n",
    "    if pd.isna(row['Time']):\n",
    "        flag = 0\n",
    "    else:\n",
    "        flag = 1\n",
    "    return flag"
   ]
  },
  {
   "cell_type": "code",
   "execution_count": 20,
   "id": "3a6bca20",
   "metadata": {},
   "outputs": [
    {
     "name": "stdout",
     "output_type": "stream",
     "text": [
      "0.9907766990291262\n",
      "19\n"
     ]
    }
   ],
   "source": [
    "# Create a censorship flag column\n",
    "melted_df['observed'] =melted_df.apply(check_observed, axis=1)\n",
    "\n",
    "# Print average of observed: the proportion of censored data in the melted_df\n",
    "print(np.average(melted_df['observed']))\n",
    "\n",
    "# Count censored data\n",
    "count = len(melted_df[melted_df['observed'] == 0])\n",
    "\n",
    "# Print the count to console\n",
    "print(count)"
   ]
  },
  {
   "cell_type": "code",
   "execution_count": 21,
   "id": "58616273",
   "metadata": {},
   "outputs": [
    {
     "data": {
      "text/plain": [
       "Measurement\n",
       "T1_180    2\n",
       "T1_250    2\n",
       "T1_395    6\n",
       "T1_410    0\n",
       "T9_180    5\n",
       "T9_250    1\n",
       "T9_395    3\n",
       "T9_410    0\n",
       "Name: Time, dtype: int64"
      ]
     },
     "execution_count": 21,
     "metadata": {},
     "output_type": "execute_result"
    }
   ],
   "source": [
    "melted_df.Time.isnull().groupby(melted_df['Measurement']).sum().astype(int)"
   ]
  },
  {
   "cell_type": "code",
   "execution_count": 22,
   "id": "e93c9be3",
   "metadata": {},
   "outputs": [],
   "source": [
    "melted_df.dropna(subset=['Time', 'observed'], inplace= True)"
   ]
  },
  {
   "cell_type": "markdown",
   "id": "b0c5a1f7",
   "metadata": {},
   "source": [
    "# Non-Parametric"
   ]
  },
  {
   "cell_type": "code",
   "execution_count": 23,
   "id": "9ae1b1d1",
   "metadata": {},
   "outputs": [],
   "source": [
    "from lifelines import KaplanMeierFitter\n",
    "from lifelines.statistics import pairwise_logrank_test"
   ]
  },
  {
   "cell_type": "code",
   "execution_count": 24,
   "id": "0768b852",
   "metadata": {},
   "outputs": [
    {
     "data": {
      "text/plain": [
       "15.0"
      ]
     },
     "execution_count": 24,
     "metadata": {},
     "output_type": "execute_result"
    }
   ],
   "source": [
    "# Calculate Median Survival Time\n",
    "kmf = KaplanMeierFitter(alpha=0.05) # calculate a 95% confidence interval\n",
    "kmf.fit(melted_df['Time'], melted_df['observed'])\n",
    "\n",
    "median_ = kmf.median_survival_time_\n",
    "median_"
   ]
  },
  {
   "cell_type": "code",
   "execution_count": 25,
   "id": "908fc083",
   "metadata": {},
   "outputs": [
    {
     "data": {
      "text/plain": [
       "<AxesSubplot:xlabel='timeline'>"
      ]
     },
     "execution_count": 25,
     "metadata": {},
     "output_type": "execute_result"
    },
    {
     "data": {
      "image/png": "[encoded data removed]",
      "text/plain": [
       "<Figure size 432x288 with 1 Axes>"
      ]
     },
     "metadata": {
      "needs_background": "light"
     },
     "output_type": "display_data"
    }
   ],
   "source": [
    "kmf.plot_survival_function()"
   ]
  },
  {
   "cell_type": "code",
   "execution_count": 26,
   "id": "c7ac6c08",
   "metadata": {},
   "outputs": [
    {
     "name": "stdout",
     "output_type": "stream",
     "text": [
      "0.6398824105830476\n"
     ]
    }
   ],
   "source": [
    "print(1-kmf.predict(20))"
   ]
  },
  {
   "cell_type": "code",
   "execution_count": 48,
   "id": "48e4ddbc",
   "metadata": {},
   "outputs": [
    {
     "data": {
      "image/png": "[encoded data removed]",
      "text/plain": [
       "<Figure size 432x288 with 1 Axes>"
      ]
     },
     "metadata": {
      "needs_background": "light"
     },
     "output_type": "display_data"
    }
   ],
   "source": [
    "def plot_survival(ax, label, time, observed):\n",
    "    kmf = KaplanMeierFitter()\n",
    "    kmf.fit(time, observed, label=label)\n",
    "    kmf.plot_survival_function(ax=ax, label=label)\n",
    "\n",
    "# Data for different measurements\n",
    "measurements = ['T1_180','T1_250', 'T1_395', 'T1_410']\n",
    "colors = ['180 nm','250 nm', '395 nm', '410 nm']\n",
    "\n",
    "# Create a subplot\n",
    "fig, ax = plt.subplots()\n",
    "\n",
    "\n",
    "\n",
    "for measurement, color in zip(measurements, colors):\n",
    "    time_data = melted_df[melted_df['Measurement'] == measurement]['Time']\n",
    "    observed_data = melted_df[melted_df['Measurement'] == measurement]['observed']\n",
    "    plot_survival(ax, color, time_data, observed_data)\n",
    "\n",
    "# Customize the plot\n",
    "ax.set_xlabel('Tiempo [h]')\n",
    "ax.set_ylabel('Probabilidad de Supervivencia')\n",
    "ax.set_title('Material T1')\n",
    "ax.legend()\n",
    "\n",
    "# Show the plot\n",
    "plt.show()\n",
    "\n"
   ]
  },
  {
   "cell_type": "markdown",
   "id": "5cc8668a",
   "metadata": {},
   "source": [
    "'print(1-kmf.predict(20))'"
   ]
  },
  {
   "cell_type": "code",
   "execution_count": 49,
   "id": "098db549",
   "metadata": {},
   "outputs": [],
   "source": [
    "def median_survival(label, time, observed):\n",
    "    kmf = KaplanMeierFitter()\n",
    "    kmf.fit(time, observed, label=label)\n",
    "    print(label,kmf.median_survival_time_)"
   ]
  },
  {
   "cell_type": "code",
   "execution_count": 50,
   "id": "b4992a6d",
   "metadata": {},
   "outputs": [
    {
     "name": "stdout",
     "output_type": "stream",
     "text": [
      "180 nm 13.0\n",
      "250 nm 14.0\n",
      "395 nm 35.0\n",
      "410 nm 30.0\n"
     ]
    }
   ],
   "source": [
    "for measurement, color in zip(measurements, colors):\n",
    "    time_data = melted_df[melted_df['Measurement'] == measurement]['Time']\n",
    "    observed_data = melted_df[melted_df['Measurement'] == measurement]['observed']\n",
    "    median_survival(color, time_data, observed_data)"
   ]
  },
  {
   "cell_type": "code",
   "execution_count": 51,
   "id": "45a9aca0",
   "metadata": {},
   "outputs": [
    {
     "data": {
      "image/png": "[encoded data removed]",
      "text/plain": [
       "<Figure size 432x288 with 1 Axes>"
      ]
     },
     "metadata": {
      "needs_background": "light"
     },
     "output_type": "display_data"
    }
   ],
   "source": [
    "# Data for different measurements\n",
    "measurements = ['T9_180','T9_250', 'T9_395', 'T9_410']\n",
    "colors = ['180 nm','250 nm', '395 nm', '410 nm']\n",
    "\n",
    "# Create a subplot\n",
    "fig, ax = plt.subplots()\n",
    "\n",
    "for measurement, color in zip(measurements, colors):\n",
    "    time_data = melted_df[melted_df['Measurement'] == measurement]['Time']\n",
    "    observed_data = melted_df[melted_df['Measurement'] == measurement]['observed']\n",
    "    plot_survival(ax, color, time_data, observed_data)\n",
    "\n",
    "# Customize the plot\n",
    "ax.set_xlabel('Tiempo [h]')\n",
    "ax.set_ylabel('Probabilidad de Supervivencia')\n",
    "ax.set_title('Material T9')\n",
    "ax.legend()\n",
    "\n",
    "# Show the plot\n",
    "plt.show()"
   ]
  },
  {
   "cell_type": "code",
   "execution_count": 52,
   "id": "598ff11b",
   "metadata": {},
   "outputs": [
    {
     "name": "stdout",
     "output_type": "stream",
     "text": [
      "180 nm 13.0\n",
      "250 nm 13.0\n",
      "395 nm 15.0\n",
      "410 nm 28.0\n"
     ]
    }
   ],
   "source": [
    "for measurement, color in zip(measurements, colors):\n",
    "    time_data = melted_df[melted_df['Measurement'] == measurement]['Time']\n",
    "    observed_data = melted_df[melted_df['Measurement'] == measurement]['observed']\n",
    "    median_survival(color, time_data, observed_data)"
   ]
  },
  {
   "cell_type": "markdown",
   "id": "1050e2e4",
   "metadata": {},
   "source": [
    "- Use the **log-rank test** to determine if survival curves are statistically equivalent\n",
    "- The log-rank test is a chi-square test that is used to test the **null hypothesis** that two or more survival curves are statistically equivalent"
   ]
  },
  {
   "cell_type": "code",
   "execution_count": 53,
   "id": "c452eb4b",
   "metadata": {},
   "outputs": [
    {
     "data": {
      "text/html": [
       "<div>\n",
       "<style scoped>\n",
       "    .dataframe tbody tr th:only-of-type {\n",
       "        vertical-align: middle;\n",
       "    }\n",
       "\n",
       "    .dataframe tbody tr th {\n",
       "        vertical-align: top;\n",
       "    }\n",
       "\n",
       "    .dataframe thead th {\n",
       "        text-align: right;\n",
       "    }\n",
       "</style>\n",
       "<table border=\"1\" class=\"dataframe\">\n",
       "  <thead>\n",
       "    <tr style=\"text-align: right;\">\n",
       "      <th></th>\n",
       "      <th></th>\n",
       "      <th>test_statistic</th>\n",
       "      <th>p</th>\n",
       "      <th>-log2(p)</th>\n",
       "    </tr>\n",
       "  </thead>\n",
       "  <tbody>\n",
       "    <tr>\n",
       "      <th rowspan=\"7\" valign=\"top\">T1_180</th>\n",
       "      <th>T1_250</th>\n",
       "      <td>9.496432</td>\n",
       "      <td>2.058718e-03</td>\n",
       "      <td>8.924038</td>\n",
       "    </tr>\n",
       "    <tr>\n",
       "      <th>T1_395</th>\n",
       "      <td>155.368779</td>\n",
       "      <td>1.163067e-35</td>\n",
       "      <td>116.049549</td>\n",
       "    </tr>\n",
       "    <tr>\n",
       "      <th>T1_410</th>\n",
       "      <td>151.956096</td>\n",
       "      <td>6.477711e-35</td>\n",
       "      <td>113.571999</td>\n",
       "    </tr>\n",
       "    <tr>\n",
       "      <th>T9_180</th>\n",
       "      <td>4.834912</td>\n",
       "      <td>2.788906e-02</td>\n",
       "      <td>5.164157</td>\n",
       "    </tr>\n",
       "    <tr>\n",
       "      <th>T9_250</th>\n",
       "      <td>0.203980</td>\n",
       "      <td>6.515272e-01</td>\n",
       "      <td>0.618103</td>\n",
       "    </tr>\n",
       "    <tr>\n",
       "      <th>T9_395</th>\n",
       "      <td>9.514246</td>\n",
       "      <td>2.038829e-03</td>\n",
       "      <td>8.938044</td>\n",
       "    </tr>\n",
       "    <tr>\n",
       "      <th>T9_410</th>\n",
       "      <td>14.839408</td>\n",
       "      <td>1.170636e-04</td>\n",
       "      <td>13.060419</td>\n",
       "    </tr>\n",
       "    <tr>\n",
       "      <th rowspan=\"6\" valign=\"top\">T1_250</th>\n",
       "      <th>T1_395</th>\n",
       "      <td>375.841767</td>\n",
       "      <td>1.000661e-83</td>\n",
       "      <td>275.719079</td>\n",
       "    </tr>\n",
       "    <tr>\n",
       "      <th>T1_410</th>\n",
       "      <td>220.107195</td>\n",
       "      <td>8.570411e-50</td>\n",
       "      <td>162.997040</td>\n",
       "    </tr>\n",
       "    <tr>\n",
       "      <th>T9_180</th>\n",
       "      <td>1.734870</td>\n",
       "      <td>1.877902e-01</td>\n",
       "      <td>2.412807</td>\n",
       "    </tr>\n",
       "    <tr>\n",
       "      <th>T9_250</th>\n",
       "      <td>44.362059</td>\n",
       "      <td>2.729256e-11</td>\n",
       "      <td>35.092701</td>\n",
       "    </tr>\n",
       "    <tr>\n",
       "      <th>T9_395</th>\n",
       "      <td>201.615098</td>\n",
       "      <td>9.276586e-46</td>\n",
       "      <td>149.595098</td>\n",
       "    </tr>\n",
       "    <tr>\n",
       "      <th>T9_410</th>\n",
       "      <td>122.228113</td>\n",
       "      <td>2.057661e-28</td>\n",
       "      <td>91.972982</td>\n",
       "    </tr>\n",
       "    <tr>\n",
       "      <th rowspan=\"5\" valign=\"top\">T1_395</th>\n",
       "      <th>T1_410</th>\n",
       "      <td>1.055962</td>\n",
       "      <td>3.041380e-01</td>\n",
       "      <td>1.717202</td>\n",
       "    </tr>\n",
       "    <tr>\n",
       "      <th>T9_180</th>\n",
       "      <td>256.490495</td>\n",
       "      <td>9.989050e-58</td>\n",
       "      <td>189.351482</td>\n",
       "    </tr>\n",
       "    <tr>\n",
       "      <th>T9_250</th>\n",
       "      <td>416.284925</td>\n",
       "      <td>1.570669e-92</td>\n",
       "      <td>304.966005</td>\n",
       "    </tr>\n",
       "    <tr>\n",
       "      <th>T9_395</th>\n",
       "      <td>170.502014</td>\n",
       "      <td>5.748077e-39</td>\n",
       "      <td>127.032116</td>\n",
       "    </tr>\n",
       "    <tr>\n",
       "      <th>T9_410</th>\n",
       "      <td>121.318163</td>\n",
       "      <td>3.255097e-28</td>\n",
       "      <td>91.311286</td>\n",
       "    </tr>\n",
       "    <tr>\n",
       "      <th rowspan=\"4\" valign=\"top\">T1_410</th>\n",
       "      <th>T9_180</th>\n",
       "      <td>264.031088</td>\n",
       "      <td>2.269137e-59</td>\n",
       "      <td>194.811614</td>\n",
       "    </tr>\n",
       "    <tr>\n",
       "      <th>T9_250</th>\n",
       "      <td>208.125617</td>\n",
       "      <td>3.522180e-47</td>\n",
       "      <td>154.314152</td>\n",
       "    </tr>\n",
       "    <tr>\n",
       "      <th>T9_395</th>\n",
       "      <td>159.975944</td>\n",
       "      <td>1.145261e-36</td>\n",
       "      <td>119.393735</td>\n",
       "    </tr>\n",
       "    <tr>\n",
       "      <th>T9_410</th>\n",
       "      <td>249.948540</td>\n",
       "      <td>2.664762e-56</td>\n",
       "      <td>184.613967</td>\n",
       "    </tr>\n",
       "    <tr>\n",
       "      <th rowspan=\"3\" valign=\"top\">T9_180</th>\n",
       "      <th>T9_250</th>\n",
       "      <td>33.588582</td>\n",
       "      <td>6.809125e-09</td>\n",
       "      <td>27.129883</td>\n",
       "    </tr>\n",
       "    <tr>\n",
       "      <th>T9_395</th>\n",
       "      <td>56.826111</td>\n",
       "      <td>4.761026e-14</td>\n",
       "      <td>44.255721</td>\n",
       "    </tr>\n",
       "    <tr>\n",
       "      <th>T9_410</th>\n",
       "      <td>45.048077</td>\n",
       "      <td>1.922560e-11</td>\n",
       "      <td>35.598181</td>\n",
       "    </tr>\n",
       "    <tr>\n",
       "      <th rowspan=\"2\" valign=\"top\">T9_250</th>\n",
       "      <th>T9_395</th>\n",
       "      <td>390.032081</td>\n",
       "      <td>8.145039e-87</td>\n",
       "      <td>285.981823</td>\n",
       "    </tr>\n",
       "    <tr>\n",
       "      <th>T9_410</th>\n",
       "      <td>76.406775</td>\n",
       "      <td>2.308579e-18</td>\n",
       "      <td>58.587701</td>\n",
       "    </tr>\n",
       "    <tr>\n",
       "      <th>T9_395</th>\n",
       "      <th>T9_410</th>\n",
       "      <td>30.343061</td>\n",
       "      <td>3.619996e-08</td>\n",
       "      <td>24.719437</td>\n",
       "    </tr>\n",
       "  </tbody>\n",
       "</table>\n",
       "</div>"
      ],
      "text/plain": [
       "               test_statistic             p    -log2(p)\n",
       "T1_180 T1_250        9.496432  2.058718e-03    8.924038\n",
       "       T1_395      155.368779  1.163067e-35  116.049549\n",
       "       T1_410      151.956096  6.477711e-35  113.571999\n",
       "       T9_180        4.834912  2.788906e-02    5.164157\n",
       "       T9_250        0.203980  6.515272e-01    0.618103\n",
       "       T9_395        9.514246  2.038829e-03    8.938044\n",
       "       T9_410       14.839408  1.170636e-04   13.060419\n",
       "T1_250 T1_395      375.841767  1.000661e-83  275.719079\n",
       "       T1_410      220.107195  8.570411e-50  162.997040\n",
       "       T9_180        1.734870  1.877902e-01    2.412807\n",
       "       T9_250       44.362059  2.729256e-11   35.092701\n",
       "       T9_395      201.615098  9.276586e-46  149.595098\n",
       "       T9_410      122.228113  2.057661e-28   91.972982\n",
       "T1_395 T1_410        1.055962  3.041380e-01    1.717202\n",
       "       T9_180      256.490495  9.989050e-58  189.351482\n",
       "       T9_250      416.284925  1.570669e-92  304.966005\n",
       "       T9_395      170.502014  5.748077e-39  127.032116\n",
       "       T9_410      121.318163  3.255097e-28   91.311286\n",
       "T1_410 T9_180      264.031088  2.269137e-59  194.811614\n",
       "       T9_250      208.125617  3.522180e-47  154.314152\n",
       "       T9_395      159.975944  1.145261e-36  119.393735\n",
       "       T9_410      249.948540  2.664762e-56  184.613967\n",
       "T9_180 T9_250       33.588582  6.809125e-09   27.129883\n",
       "       T9_395       56.826111  4.761026e-14   44.255721\n",
       "       T9_410       45.048077  1.922560e-11   35.598181\n",
       "T9_250 T9_395      390.032081  8.145039e-87  285.981823\n",
       "       T9_410       76.406775  2.308579e-18   58.587701\n",
       "T9_395 T9_410       30.343061  3.619996e-08   24.719437"
      ]
     },
     "execution_count": 53,
     "metadata": {},
     "output_type": "execute_result"
    }
   ],
   "source": [
    "# Run log-rank test to compare seeds with different treatments\n",
    "log_rank = pairwise_logrank_test(melted_df['Time'], melted_df['Measurement'], melted_df['observed'])#, t_0=184)\n",
    "log_rank.summary"
   ]
  },
  {
   "cell_type": "markdown",
   "id": "5ccaeeee",
   "metadata": {},
   "source": [
    "\n"
   ]
  },
  {
   "cell_type": "code",
   "execution_count": 54,
   "id": "a3f44e25",
   "metadata": {},
   "outputs": [
    {
     "data": {
      "text/html": [
       "<div>\n",
       "<style scoped>\n",
       "    .dataframe tbody tr th:only-of-type {\n",
       "        vertical-align: middle;\n",
       "    }\n",
       "\n",
       "    .dataframe tbody tr th {\n",
       "        vertical-align: top;\n",
       "    }\n",
       "\n",
       "    .dataframe thead th {\n",
       "        text-align: right;\n",
       "    }\n",
       "</style>\n",
       "<table border=\"1\" class=\"dataframe\">\n",
       "  <thead>\n",
       "    <tr style=\"text-align: right;\">\n",
       "      <th></th>\n",
       "      <th></th>\n",
       "      <th>test_statistic</th>\n",
       "      <th>p</th>\n",
       "      <th>-log2(p)</th>\n",
       "    </tr>\n",
       "  </thead>\n",
       "  <tbody>\n",
       "    <tr>\n",
       "      <th>T1_180</th>\n",
       "      <th>T9_250</th>\n",
       "      <td>0.203980</td>\n",
       "      <td>0.651527</td>\n",
       "      <td>0.618103</td>\n",
       "    </tr>\n",
       "    <tr>\n",
       "      <th>T1_250</th>\n",
       "      <th>T9_180</th>\n",
       "      <td>1.734870</td>\n",
       "      <td>0.187790</td>\n",
       "      <td>2.412807</td>\n",
       "    </tr>\n",
       "    <tr>\n",
       "      <th>T1_395</th>\n",
       "      <th>T1_410</th>\n",
       "      <td>1.055962</td>\n",
       "      <td>0.304138</td>\n",
       "      <td>1.717202</td>\n",
       "    </tr>\n",
       "  </tbody>\n",
       "</table>\n",
       "</div>"
      ],
      "text/plain": [
       "               test_statistic         p  -log2(p)\n",
       "T1_180 T9_250        0.203980  0.651527  0.618103\n",
       "T1_250 T9_180        1.734870  0.187790  2.412807\n",
       "T1_395 T1_410        1.055962  0.304138  1.717202"
      ]
     },
     "execution_count": 54,
     "metadata": {},
     "output_type": "execute_result"
    }
   ],
   "source": [
    "summary = log_rank.summary\n",
    "summary[summary['p']>=0.05]"
   ]
  },
  {
   "cell_type": "markdown",
   "id": "ecc80bb7",
   "metadata": {},
   "source": [
    "# Parametric"
   ]
  },
  {
   "cell_type": "code",
   "execution_count": null,
   "id": "514b308b",
   "metadata": {},
   "outputs": [],
   "source": []
  }
 ],
 "metadata": {
  "kernelspec": {
   "display_name": "Python 3",
   "language": "python",
   "name": "python3"
  },
  "language_info": {
   "codemirror_mode": {
    "name": "ipython",
    "version": 3
   },
   "file_extension": ".py",
   "mimetype": "text/x-python",
   "name": "python",
   "nbconvert_exporter": "python",
   "pygments_lexer": "ipython3",
   "version": "3.8.8"
  }
 },
 "nbformat": 4,
 "nbformat_minor": 5
}
