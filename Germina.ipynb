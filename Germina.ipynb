{
 "cells": [
  {
   "cell_type": "markdown",
   "id": "bf7c0600",
   "metadata": {},
   "source": [
    "**Evento** : Germinación de la semilla\n",
    "\n",
    "**Survival**: El evento de interes no ocurre\n",
    "\n",
    "**Survival duration**: Tiempo hasta que ocurra el evento de interés (o el final de nuestras observaciones)\n",
    "\n",
    "\n",
    "96 horas (fin de observaciones-> NA)"
   ]
  },
  {
   "cell_type": "code",
   "execution_count": 96,
   "id": "4da07cab",
   "metadata": {},
   "outputs": [],
   "source": [
    "import numpy as np\n",
    "import pandas as pd\n",
    "import seaborn as sns\n",
    "import matplotlib.pyplot as plt"
   ]
  },
  {
   "cell_type": "code",
   "execution_count": 97,
   "id": "faeb8f77",
   "metadata": {},
   "outputs": [
    {
     "data": {
      "text/html": [
       "<div>\n",
       "<style scoped>\n",
       "    .dataframe tbody tr th:only-of-type {\n",
       "        vertical-align: middle;\n",
       "    }\n",
       "\n",
       "    .dataframe tbody tr th {\n",
       "        vertical-align: top;\n",
       "    }\n",
       "\n",
       "    .dataframe thead th {\n",
       "        text-align: right;\n",
       "    }\n",
       "</style>\n",
       "<table border=\"1\" class=\"dataframe\">\n",
       "  <thead>\n",
       "    <tr style=\"text-align: right;\">\n",
       "      <th></th>\n",
       "      <th>T1_180</th>\n",
       "      <th>T9_180</th>\n",
       "      <th>T1_250</th>\n",
       "      <th>T9_250</th>\n",
       "      <th>T1_395</th>\n",
       "      <th>T9_395</th>\n",
       "      <th>T1_410</th>\n",
       "      <th>T9_410</th>\n",
       "    </tr>\n",
       "  </thead>\n",
       "  <tbody>\n",
       "    <tr>\n",
       "      <th>0</th>\n",
       "      <td>12 h</td>\n",
       "      <td>28 h</td>\n",
       "      <td>14 h</td>\n",
       "      <td>13 h</td>\n",
       "      <td>16 h</td>\n",
       "      <td>15 h</td>\n",
       "      <td>10 h</td>\n",
       "      <td>10 h</td>\n",
       "    </tr>\n",
       "    <tr>\n",
       "      <th>1</th>\n",
       "      <td>28 h</td>\n",
       "      <td>28 h</td>\n",
       "      <td>14 h</td>\n",
       "      <td>13 h</td>\n",
       "      <td>16 h</td>\n",
       "      <td>35 h</td>\n",
       "      <td>29 h</td>\n",
       "      <td>28 h</td>\n",
       "    </tr>\n",
       "    <tr>\n",
       "      <th>2</th>\n",
       "      <td>12 h</td>\n",
       "      <td>28 h</td>\n",
       "      <td>9 h</td>\n",
       "      <td>13 h</td>\n",
       "      <td>16 h</td>\n",
       "      <td>35 h</td>\n",
       "      <td>30 h</td>\n",
       "      <td>11 h</td>\n",
       "    </tr>\n",
       "    <tr>\n",
       "      <th>3</th>\n",
       "      <td>12 h</td>\n",
       "      <td>13 h</td>\n",
       "      <td>9 h</td>\n",
       "      <td>13 h</td>\n",
       "      <td>16 h</td>\n",
       "      <td>15 h</td>\n",
       "      <td>30 h</td>\n",
       "      <td>28 h</td>\n",
       "    </tr>\n",
       "    <tr>\n",
       "      <th>4</th>\n",
       "      <td>28 h</td>\n",
       "      <td>28 h</td>\n",
       "      <td>9 h</td>\n",
       "      <td>13 h</td>\n",
       "      <td>16 h</td>\n",
       "      <td>15 h</td>\n",
       "      <td>30 h</td>\n",
       "      <td>28 h</td>\n",
       "    </tr>\n",
       "  </tbody>\n",
       "</table>\n",
       "</div>"
      ],
      "text/plain": [
       "  T1_180 T9_180 T1_250 T9_250 T1_395 T9_395 T1_410 T9_410\n",
       "0   12 h   28 h   14 h   13 h   16 h   15 h   10 h   10 h\n",
       "1   28 h   28 h   14 h   13 h   16 h   35 h   29 h   28 h\n",
       "2   12 h   28 h    9 h   13 h   16 h   35 h   30 h   11 h\n",
       "3   12 h   13 h    9 h   13 h   16 h   15 h   30 h   28 h\n",
       "4   28 h   28 h    9 h   13 h   16 h   15 h   30 h   28 h"
      ]
     },
     "execution_count": 97,
     "metadata": {},
     "output_type": "execute_result"
    }
   ],
   "source": [
    "# Read the Excel sheet\n",
    "df = pd.read_excel('DATOS T1 Y T9_V3-2.xlsx', sheet_name='Germina', usecols=['T1_180', 'T9_180', 'T1_250', 'T9_250', 'T1_395',\n",
    "       'T9_395', 'T1_410', 'T9_410'])#, parse_dates=['H'])\n",
    "\n",
    "df.head()"
   ]
  },
  {
   "cell_type": "code",
   "execution_count": 98,
   "id": "9ef2681e",
   "metadata": {},
   "outputs": [
    {
     "name": "stdout",
     "output_type": "stream",
     "text": [
      "<class 'pandas.core.frame.DataFrame'>\n",
      "RangeIndex: 260 entries, 0 to 259\n",
      "Data columns (total 8 columns):\n",
      " #   Column  Non-Null Count  Dtype \n",
      "---  ------  --------------  ----- \n",
      " 0   T1_180  238 non-null    object\n",
      " 1   T9_180  255 non-null    object\n",
      " 2   T1_250  258 non-null    object\n",
      " 3   T9_250  259 non-null    object\n",
      " 4   T1_395  254 non-null    object\n",
      " 5   T9_395  257 non-null    object\n",
      " 6   T1_410  260 non-null    object\n",
      " 7   T9_410  260 non-null    object\n",
      "dtypes: object(8)\n",
      "memory usage: 16.4+ KB\n"
     ]
    }
   ],
   "source": [
    "df.info()"
   ]
  },
  {
   "cell_type": "code",
   "execution_count": 99,
   "id": "f5b3ae5e",
   "metadata": {},
   "outputs": [],
   "source": [
    "# Remove 'h' from values while preserving non-string values\n",
    "for col in df.columns:\n",
    "    df[col] = df[col].apply(lambda x: x.replace(' h', '') if isinstance(x, str) else x)\n",
    "\n",
    "#df.tail(30)"
   ]
  },
  {
   "cell_type": "code",
   "execution_count": 100,
   "id": "40c567db",
   "metadata": {},
   "outputs": [
    {
     "name": "stdout",
     "output_type": "stream",
     "text": [
      "T1_180    float64\n",
      "T9_180    float64\n",
      "T1_250    float64\n",
      "T9_250    float64\n",
      "T1_395    float64\n",
      "T9_395    float64\n",
      "T1_410    float64\n",
      "T9_410    float64\n",
      "dtype: object\n"
     ]
    },
    {
     "data": {
      "text/html": [
       "<div>\n",
       "<style scoped>\n",
       "    .dataframe tbody tr th:only-of-type {\n",
       "        vertical-align: middle;\n",
       "    }\n",
       "\n",
       "    .dataframe tbody tr th {\n",
       "        vertical-align: top;\n",
       "    }\n",
       "\n",
       "    .dataframe thead th {\n",
       "        text-align: right;\n",
       "    }\n",
       "</style>\n",
       "<table border=\"1\" class=\"dataframe\">\n",
       "  <thead>\n",
       "    <tr style=\"text-align: right;\">\n",
       "      <th></th>\n",
       "      <th>T1_180</th>\n",
       "      <th>T9_180</th>\n",
       "      <th>T1_250</th>\n",
       "      <th>T9_250</th>\n",
       "      <th>T1_395</th>\n",
       "      <th>T9_395</th>\n",
       "      <th>T1_410</th>\n",
       "      <th>T9_410</th>\n",
       "    </tr>\n",
       "  </thead>\n",
       "  <tbody>\n",
       "    <tr>\n",
       "      <th>count</th>\n",
       "      <td>238.000000</td>\n",
       "      <td>255.000000</td>\n",
       "      <td>258.000000</td>\n",
       "      <td>259.000000</td>\n",
       "      <td>254.000000</td>\n",
       "      <td>257.000000</td>\n",
       "      <td>260.000000</td>\n",
       "      <td>260.000000</td>\n",
       "    </tr>\n",
       "    <tr>\n",
       "      <th>mean</th>\n",
       "      <td>19.571429</td>\n",
       "      <td>16.925490</td>\n",
       "      <td>14.426357</td>\n",
       "      <td>13.822394</td>\n",
       "      <td>27.964567</td>\n",
       "      <td>18.097276</td>\n",
       "      <td>28.757692</td>\n",
       "      <td>23.196154</td>\n",
       "    </tr>\n",
       "    <tr>\n",
       "      <th>std</th>\n",
       "      <td>11.669913</td>\n",
       "      <td>8.391875</td>\n",
       "      <td>10.354251</td>\n",
       "      <td>6.846555</td>\n",
       "      <td>11.865298</td>\n",
       "      <td>10.334743</td>\n",
       "      <td>8.023550</td>\n",
       "      <td>8.151319</td>\n",
       "    </tr>\n",
       "    <tr>\n",
       "      <th>min</th>\n",
       "      <td>12.000000</td>\n",
       "      <td>13.000000</td>\n",
       "      <td>9.000000</td>\n",
       "      <td>9.000000</td>\n",
       "      <td>16.000000</td>\n",
       "      <td>15.000000</td>\n",
       "      <td>10.000000</td>\n",
       "      <td>10.000000</td>\n",
       "    </tr>\n",
       "    <tr>\n",
       "      <th>25%</th>\n",
       "      <td>12.000000</td>\n",
       "      <td>13.000000</td>\n",
       "      <td>9.000000</td>\n",
       "      <td>13.000000</td>\n",
       "      <td>16.000000</td>\n",
       "      <td>15.000000</td>\n",
       "      <td>29.000000</td>\n",
       "      <td>11.000000</td>\n",
       "    </tr>\n",
       "    <tr>\n",
       "      <th>50%</th>\n",
       "      <td>13.000000</td>\n",
       "      <td>13.000000</td>\n",
       "      <td>14.000000</td>\n",
       "      <td>13.000000</td>\n",
       "      <td>35.000000</td>\n",
       "      <td>15.000000</td>\n",
       "      <td>30.000000</td>\n",
       "      <td>28.000000</td>\n",
       "    </tr>\n",
       "    <tr>\n",
       "      <th>75%</th>\n",
       "      <td>28.000000</td>\n",
       "      <td>13.000000</td>\n",
       "      <td>15.000000</td>\n",
       "      <td>13.000000</td>\n",
       "      <td>35.000000</td>\n",
       "      <td>16.000000</td>\n",
       "      <td>30.000000</td>\n",
       "      <td>28.000000</td>\n",
       "    </tr>\n",
       "    <tr>\n",
       "      <th>max</th>\n",
       "      <td>81.000000</td>\n",
       "      <td>81.000000</td>\n",
       "      <td>82.000000</td>\n",
       "      <td>82.000000</td>\n",
       "      <td>58.000000</td>\n",
       "      <td>84.000000</td>\n",
       "      <td>37.000000</td>\n",
       "      <td>30.000000</td>\n",
       "    </tr>\n",
       "  </tbody>\n",
       "</table>\n",
       "</div>"
      ],
      "text/plain": [
       "           T1_180      T9_180      T1_250      T9_250      T1_395      T9_395  \\\n",
       "count  238.000000  255.000000  258.000000  259.000000  254.000000  257.000000   \n",
       "mean    19.571429   16.925490   14.426357   13.822394   27.964567   18.097276   \n",
       "std     11.669913    8.391875   10.354251    6.846555   11.865298   10.334743   \n",
       "min     12.000000   13.000000    9.000000    9.000000   16.000000   15.000000   \n",
       "25%     12.000000   13.000000    9.000000   13.000000   16.000000   15.000000   \n",
       "50%     13.000000   13.000000   14.000000   13.000000   35.000000   15.000000   \n",
       "75%     28.000000   13.000000   15.000000   13.000000   35.000000   16.000000   \n",
       "max     81.000000   81.000000   82.000000   82.000000   58.000000   84.000000   \n",
       "\n",
       "           T1_410      T9_410  \n",
       "count  260.000000  260.000000  \n",
       "mean    28.757692   23.196154  \n",
       "std      8.023550    8.151319  \n",
       "min     10.000000   10.000000  \n",
       "25%     29.000000   11.000000  \n",
       "50%     30.000000   28.000000  \n",
       "75%     30.000000   28.000000  \n",
       "max     37.000000   30.000000  "
      ]
     },
     "execution_count": 100,
     "metadata": {},
     "output_type": "execute_result"
    }
   ],
   "source": [
    "df[['T1_180', 'T9_180', 'T1_250', 'T9_250', 'T1_395',\n",
    "       'T9_395', 'T1_410', 'T9_410']]=df[['T1_180', 'T9_180', 'T1_250', 'T9_250', 'T1_395',\n",
    "       'T9_395', 'T1_410', 'T9_410']].astype('float')\n",
    "\n",
    "print(df.dtypes)\n",
    "df.describe()"
   ]
  },
  {
   "cell_type": "markdown",
   "id": "de6de3eb",
   "metadata": {},
   "source": []
  },
  {
   "cell_type": "code",
   "execution_count": 140,
   "id": "537472a3",
   "metadata": {},
   "outputs": [],
   "source": [
    "# Melt the DataFrame to create 'Measurement' and 'Value' columns\n",
    "melted_df = pd.melt(df, var_name=\"Measurement\", value_name=\"Time\")"
   ]
  },
  {
   "cell_type": "code",
   "execution_count": 141,
   "id": "8b60457f",
   "metadata": {},
   "outputs": [],
   "source": [
    "# Extract the measurement type (T1 or T9) from the column name\n",
    "melted_df[\"Material\"] = melted_df[\"Measurement\"].str.split(\"_\").str[0]\n",
    "melted_df[\"UV\"] = melted_df[\"Measurement\"].str.split(\"_\").str[1]"
   ]
  },
  {
   "cell_type": "code",
   "execution_count": 142,
   "id": "19f9609c",
   "metadata": {},
   "outputs": [
    {
     "name": "stdout",
     "output_type": "stream",
     "text": [
      "<class 'pandas.core.frame.DataFrame'>\n",
      "RangeIndex: 2080 entries, 0 to 2079\n",
      "Data columns (total 4 columns):\n",
      " #   Column       Non-Null Count  Dtype  \n",
      "---  ------       --------------  -----  \n",
      " 0   Measurement  2080 non-null   object \n",
      " 1   Time         2041 non-null   float64\n",
      " 2   Material     2080 non-null   object \n",
      " 3   UV           2080 non-null   object \n",
      "dtypes: float64(1), object(3)\n",
      "memory usage: 65.1+ KB\n"
     ]
    }
   ],
   "source": [
    "melted_df.info()"
   ]
  },
  {
   "cell_type": "code",
   "execution_count": 143,
   "id": "266d109a",
   "metadata": {},
   "outputs": [],
   "source": [
    "melted_df['UV']=melted_df['UV'].astype('category')\n",
    "melted_df['Time']=melted_df['Time'].astype('float')"
   ]
  },
  {
   "cell_type": "markdown",
   "id": "3afd9648",
   "metadata": {},
   "source": [
    "# EDA "
   ]
  },
  {
   "cell_type": "code",
   "execution_count": 144,
   "id": "937bf944",
   "metadata": {},
   "outputs": [
    {
     "data": {
      "text/plain": [
       "Text(0, 0.5, 'Tiempo [h]')"
      ]
     },
     "execution_count": 144,
     "metadata": {},
     "output_type": "execute_result"
    },
    {
     "data": {
      "image/png": "[encoded data removed]",
      "text/plain": [
       "<Figure size 432x288 with 1 Axes>"
      ]
     },
     "metadata": {
      "needs_background": "light"
     },
     "output_type": "display_data"
    }
   ],
   "source": [
    "sns.boxplot(data=melted_df, x=\"UV\", y=\"Time\", hue=\"Material\")\n",
    "plt.xlabel('UV')\n",
    "plt.ylabel('Tiempo [h]')\n",
    "#plt.title('Sales by Quarter')"
   ]
  },
  {
   "cell_type": "code",
   "execution_count": 145,
   "id": "d87865cb",
   "metadata": {},
   "outputs": [
    {
     "data": {
      "text/plain": [
       "Text(0, 0.5, 'Tiempo [h]')"
      ]
     },
     "execution_count": 145,
     "metadata": {},
     "output_type": "execute_result"
    },
    {
     "data": {
      "image/png": "[encoded data removed]",
      "text/plain": [
       "<Figure size 432x288 with 1 Axes>"
      ]
     },
     "metadata": {
      "needs_background": "light"
     },
     "output_type": "display_data"
    }
   ],
   "source": [
    "sns.boxplot(data=melted_df, x=\"UV\", y=\"Time\", hue=\"Material\", showfliers = False)\n",
    "plt.xlabel('UV')\n",
    "plt.ylabel('Tiempo [h]')"
   ]
  },
  {
   "cell_type": "code",
   "execution_count": 146,
   "id": "6d1e16ff",
   "metadata": {
    "scrolled": true
   },
   "outputs": [
    {
     "data": {
      "text/plain": [
       "Text(0, 0.5, 'Frecuencia')"
      ]
     },
     "execution_count": 146,
     "metadata": {},
     "output_type": "execute_result"
    },
    {
     "data": {
      "image/png": "[encoded data removed]",
      "text/plain": [
       "<Figure size 432x288 with 1 Axes>"
      ]
     },
     "metadata": {
      "needs_background": "light"
     },
     "output_type": "display_data"
    }
   ],
   "source": [
    "sns.histplot(data=melted_df,x=\"Time\", hue=\"UV\",element=\"poly\", bins=range(8,80,2))\n",
    "plt.xlabel('Tiempo[h]')\n",
    "plt.ylabel('Frecuencia')"
   ]
  },
  {
   "cell_type": "code",
   "execution_count": 147,
   "id": "c8a88eb3",
   "metadata": {
    "scrolled": true
   },
   "outputs": [
    {
     "data": {
      "text/plain": [
       "Text(0.5, 1.0, 'Material T1')"
      ]
     },
     "execution_count": 147,
     "metadata": {},
     "output_type": "execute_result"
    },
    {
     "data": {
      "image/png": "[encoded data removed]",
      "text/plain": [
       "<Figure size 432x288 with 1 Axes>"
      ]
     },
     "metadata": {
      "needs_background": "light"
     },
     "output_type": "display_data"
    }
   ],
   "source": [
    "sns.histplot(data=melted_df[melted_df['Material']=='T1'],x=\"Time\", hue=\"UV\",element=\"poly\", bins=range(8,80,2))\n",
    "plt.xlabel('Tiempo[h]')\n",
    "plt.ylabel('Frecuencia')\n",
    "plt.title('Material T1')"
   ]
  },
  {
   "cell_type": "code",
   "execution_count": 148,
   "id": "2d9379f1",
   "metadata": {},
   "outputs": [
    {
     "data": {
      "text/plain": [
       "Text(0.5, 1.0, 'Material T9')"
      ]
     },
     "execution_count": 148,
     "metadata": {},
     "output_type": "execute_result"
    },
    {
     "data": {
      "image/png": "[encoded data removed]",
      "text/plain": [
       "<Figure size 432x288 with 1 Axes>"
      ]
     },
     "metadata": {
      "needs_background": "light"
     },
     "output_type": "display_data"
    }
   ],
   "source": [
    "sns.histplot(data=melted_df[melted_df['Material']=='T9'],x=\"Time\", hue=\"UV\",element=\"poly\", bins=range(8,80,2))\n",
    "plt.xlabel('Tiempo[h]')\n",
    "plt.ylabel('Frecuencia')\n",
    "plt.title('Material T9')"
   ]
  },
  {
   "cell_type": "code",
   "execution_count": 149,
   "id": "6e7821e7",
   "metadata": {},
   "outputs": [
    {
     "data": {
      "text/plain": [
       "<AxesSubplot:xlabel='Time', ylabel='Density'>"
      ]
     },
     "execution_count": 149,
     "metadata": {},
     "output_type": "execute_result"
    },
    {
     "data": {
      "image/png": "[encoded data removed]",
      "text/plain": [
       "<Figure size 432x288 with 1 Axes>"
      ]
     },
     "metadata": {
      "needs_background": "light"
     },
     "output_type": "display_data"
    }
   ],
   "source": [
    "sns.kdeplot(data=melted_df[melted_df['Material']=='T1'], x='Time', hue='UV', cut=0, cumulative=True)"
   ]
  },
  {
   "cell_type": "code",
   "execution_count": 150,
   "id": "bb222158",
   "metadata": {},
   "outputs": [
    {
     "data": {
      "text/plain": [
       "<AxesSubplot:xlabel='Time', ylabel='Density'>"
      ]
     },
     "execution_count": 150,
     "metadata": {},
     "output_type": "execute_result"
    },
    {
     "data": {
      "image/png": "[encoded data removed]",
      "text/plain": [
       "<Figure size 432x288 with 1 Axes>"
      ]
     },
     "metadata": {
      "needs_background": "light"
     },
     "output_type": "display_data"
    }
   ],
   "source": [
    "sns.kdeplot(data=melted_df, x='Time', hue='Measurement')"
   ]
  },
  {
   "cell_type": "code",
   "execution_count": 151,
   "id": "296d181a",
   "metadata": {},
   "outputs": [
    {
     "data": {
      "text/plain": [
       "<seaborn.axisgrid.FacetGrid at 0x7fc8a171ccd0>"
      ]
     },
     "execution_count": 151,
     "metadata": {},
     "output_type": "execute_result"
    },
    {
     "data": {
      "image/png": "[encoded data removed]",
      "text/plain": [
       "<Figure size 480.75x432 with 4 Axes>"
      ]
     },
     "metadata": {
      "needs_background": "light"
     },
     "output_type": "display_data"
    }
   ],
   "source": [
    "g = sns.FacetGrid(melted_df,col=\"UV\",col_wrap=2, hue=\"Material\",sharex=False, sharey=False, margin_titles=True)\n",
    "g.map(sns.kdeplot, \"Time\", cumulative=True)\n",
    "g.add_legend()"
   ]
  },
  {
   "cell_type": "markdown",
   "id": "ee80c83b",
   "metadata": {},
   "source": [
    "sns.histplot(\n",
    "    melted_df, x=\"Time\", hue=\"UV\", element=\"step\",\n",
    "    stat=\"density\", common_norm=False,\n",
    ")"
   ]
  },
  {
   "cell_type": "markdown",
   "id": "a89847b2",
   "metadata": {},
   "source": [
    "sns.histplot(data=melted_df, x=\"Time\", y=\"UV\", hue=\"UV\", bins=range(2,40,2))"
   ]
  },
  {
   "cell_type": "markdown",
   "id": "e3f3aba3",
   "metadata": {},
   "source": [
    "sns.histplot(data=melted_df, x=\"Time\", y=\"UV\", hue=\"Material\", bins=range(2,40,2))"
   ]
  },
  {
   "cell_type": "markdown",
   "id": "690cff63",
   "metadata": {},
   "source": [
    "sns.histplot(data=melted_df, x=\"Time\", y=\"Material\", hue=\"UV\", bins=range(2,40,2))"
   ]
  },
  {
   "cell_type": "code",
   "execution_count": 152,
   "id": "f359fe40",
   "metadata": {},
   "outputs": [
    {
     "data": {
      "text/plain": [
       "Text(0.5, 1.0, 'Material T1')"
      ]
     },
     "execution_count": 152,
     "metadata": {},
     "output_type": "execute_result"
    },
    {
     "data": {
      "image/png": "[encoded data removed]",
      "text/plain": [
       "<Figure size 432x288 with 1 Axes>"
      ]
     },
     "metadata": {
      "needs_background": "light"
     },
     "output_type": "display_data"
    }
   ],
   "source": [
    "sns.histplot(data=melted_df[melted_df['Material']=='T1'], x=\"Time\", y=\"UV\", hue=\"UV\", bins=range(2,40,2))\n",
    "plt.xlabel('Tiempo[h]')\n",
    "plt.ylabel('UV [nm]')\n",
    "plt.title('Material T1')"
   ]
  },
  {
   "cell_type": "code",
   "execution_count": 153,
   "id": "85c2acc7",
   "metadata": {},
   "outputs": [
    {
     "data": {
      "text/plain": [
       "Text(0.5, 1.0, 'Material T9')"
      ]
     },
     "execution_count": 153,
     "metadata": {},
     "output_type": "execute_result"
    },
    {
     "data": {
      "image/png": "[encoded data removed]",
      "text/plain": [
       "<Figure size 432x288 with 1 Axes>"
      ]
     },
     "metadata": {
      "needs_background": "light"
     },
     "output_type": "display_data"
    }
   ],
   "source": [
    "sns.histplot(data=melted_df[melted_df['Material']=='T9'], x=\"Time\", y=\"UV\", hue=\"UV\", bins=range(2,40,2))\n",
    "plt.xlabel('Tiempo[h]')\n",
    "plt.ylabel('UV [nm]')\n",
    "plt.title('Material T9')"
   ]
  },
  {
   "cell_type": "code",
   "execution_count": 154,
   "id": "e71f2a29",
   "metadata": {},
   "outputs": [
    {
     "data": {
      "image/png": "[encoded data removed]",
      "text/plain": [
       "<Figure size 432x864 with 8 Axes>"
      ]
     },
     "metadata": {
      "needs_background": "light"
     },
     "output_type": "display_data"
    }
   ],
   "source": [
    "# Plot histograms grouped by 'Measurement_Type', using FacetGrid\n",
    "g = sns.FacetGrid(melted_df, col=\"Material\",row=\"UV\")\n",
    "g.map(plt.hist, \"Time\")\n",
    "#g.set_titles(col_template=\"{col_name}\")\n",
    "plt.show()"
   ]
  },
  {
   "cell_type": "code",
   "execution_count": 155,
   "id": "833eb23b",
   "metadata": {},
   "outputs": [],
   "source": [
    "# Filter the rows based on the condition\n",
    "rows_to_remove = melted_df[melted_df['Measurement'] == 'T1_180'].tail(20)\n",
    "\n",
    "# Remove the filtered rows from the DataFrame\n",
    "melted_df = melted_df.drop(rows_to_remove.index)\n",
    "\n",
    "# Print the updated DataFrame\n",
    "#print(melted_df)"
   ]
  },
  {
   "cell_type": "code",
   "execution_count": 168,
   "id": "e46fc3d3",
   "metadata": {},
   "outputs": [
    {
     "data": {
      "text/html": [
       "<div>\n",
       "<style scoped>\n",
       "    .dataframe tbody tr th:only-of-type {\n",
       "        vertical-align: middle;\n",
       "    }\n",
       "\n",
       "    .dataframe tbody tr th {\n",
       "        vertical-align: top;\n",
       "    }\n",
       "\n",
       "    .dataframe thead th {\n",
       "        text-align: right;\n",
       "    }\n",
       "</style>\n",
       "<table border=\"1\" class=\"dataframe\">\n",
       "  <thead>\n",
       "    <tr style=\"text-align: right;\">\n",
       "      <th></th>\n",
       "      <th>Measurement</th>\n",
       "      <th>Time</th>\n",
       "      <th>Material</th>\n",
       "      <th>UV</th>\n",
       "      <th>observed</th>\n",
       "    </tr>\n",
       "  </thead>\n",
       "  <tbody>\n",
       "    <tr>\n",
       "      <th>0</th>\n",
       "      <td>T1_180</td>\n",
       "      <td>12.0</td>\n",
       "      <td>T1</td>\n",
       "      <td>180</td>\n",
       "      <td>1</td>\n",
       "    </tr>\n",
       "    <tr>\n",
       "      <th>1</th>\n",
       "      <td>T1_180</td>\n",
       "      <td>28.0</td>\n",
       "      <td>T1</td>\n",
       "      <td>180</td>\n",
       "      <td>1</td>\n",
       "    </tr>\n",
       "    <tr>\n",
       "      <th>2</th>\n",
       "      <td>T1_180</td>\n",
       "      <td>12.0</td>\n",
       "      <td>T1</td>\n",
       "      <td>180</td>\n",
       "      <td>1</td>\n",
       "    </tr>\n",
       "    <tr>\n",
       "      <th>3</th>\n",
       "      <td>T1_180</td>\n",
       "      <td>12.0</td>\n",
       "      <td>T1</td>\n",
       "      <td>180</td>\n",
       "      <td>1</td>\n",
       "    </tr>\n",
       "    <tr>\n",
       "      <th>4</th>\n",
       "      <td>T1_180</td>\n",
       "      <td>28.0</td>\n",
       "      <td>T1</td>\n",
       "      <td>180</td>\n",
       "      <td>1</td>\n",
       "    </tr>\n",
       "  </tbody>\n",
       "</table>\n",
       "</div>"
      ],
      "text/plain": [
       "  Measurement  Time Material   UV  observed\n",
       "0      T1_180  12.0       T1  180         1\n",
       "1      T1_180  28.0       T1  180         1\n",
       "2      T1_180  12.0       T1  180         1\n",
       "3      T1_180  12.0       T1  180         1\n",
       "4      T1_180  28.0       T1  180         1"
      ]
     },
     "execution_count": 168,
     "metadata": {},
     "output_type": "execute_result"
    }
   ],
   "source": [
    "melted_df.head()"
   ]
  },
  {
   "cell_type": "markdown",
   "id": "5163832b",
   "metadata": {},
   "source": []
  },
  {
   "cell_type": "code",
   "execution_count": 156,
   "id": "955c3426",
   "metadata": {},
   "outputs": [],
   "source": [
    "# Create a function to return 1 if observed 0 otherwise\n",
    "def check_observed(row):\n",
    "    if pd.isna(row['Time']):\n",
    "        flag = 0\n",
    "    else:\n",
    "        flag = 1\n",
    "    return flag"
   ]
  },
  {
   "cell_type": "code",
   "execution_count": 157,
   "id": "3a6bca20",
   "metadata": {},
   "outputs": [
    {
     "name": "stdout",
     "output_type": "stream",
     "text": [
      "0.9907766990291262\n",
      "19\n"
     ]
    }
   ],
   "source": [
    "# Create a censorship flag column\n",
    "melted_df['observed'] =melted_df.apply(check_observed, axis=1)\n",
    "\n",
    "# Print average of observed: the proportion of censored data in the melted_df\n",
    "print(np.average(melted_df['observed']))\n",
    "\n",
    "# Count censored data\n",
    "count = len(melted_df[melted_df['observed'] == 0])\n",
    "\n",
    "# Print the count to console\n",
    "print(count)"
   ]
  },
  {
   "cell_type": "code",
   "execution_count": 158,
   "id": "b01b3c91",
   "metadata": {},
   "outputs": [
    {
     "data": {
      "text/plain": [
       "0.8403361344537815"
      ]
     },
     "execution_count": 158,
     "metadata": {},
     "output_type": "execute_result"
    }
   ],
   "source": [
    "200/238"
   ]
  },
  {
   "cell_type": "code",
   "execution_count": 159,
   "id": "60a20f8b",
   "metadata": {},
   "outputs": [
    {
     "data": {
      "text/plain": [
       "Measurement\n",
       "T1_180     99.166667\n",
       "T1_250     99.230769\n",
       "T1_395     97.692308\n",
       "T1_410    100.000000\n",
       "T9_180     98.076923\n",
       "T9_250     99.615385\n",
       "T9_395     98.846154\n",
       "T9_410    100.000000\n",
       "Name: Time, dtype: float64"
      ]
     },
     "execution_count": 159,
     "metadata": {},
     "output_type": "execute_result"
    }
   ],
   "source": [
    "100-melted_df.Time.isnull().groupby(melted_df['Measurement']).mean()*100"
   ]
  },
  {
   "cell_type": "code",
   "execution_count": 160,
   "id": "58616273",
   "metadata": {},
   "outputs": [
    {
     "data": {
      "text/plain": [
       "Measurement\n",
       "T1_180    2\n",
       "T1_250    2\n",
       "T1_395    6\n",
       "T1_410    0\n",
       "T9_180    5\n",
       "T9_250    1\n",
       "T9_395    3\n",
       "T9_410    0\n",
       "Name: Time, dtype: int64"
      ]
     },
     "execution_count": 160,
     "metadata": {},
     "output_type": "execute_result"
    }
   ],
   "source": [
    "melted_df.Time.isnull().groupby(melted_df['Measurement']).sum().astype(int)"
   ]
  },
  {
   "cell_type": "code",
   "execution_count": 162,
   "id": "69440c3d",
   "metadata": {},
   "outputs": [
    {
     "name": "stdout",
     "output_type": "stream",
     "text": [
      "9.0\n",
      "84.0\n"
     ]
    }
   ],
   "source": [
    "#print('Valor mínimo de germinación:' \n",
    "print(melted_df['Time'].min())\n",
    "#print('Valor maximo de germinación:' \n",
    "print(melted_df['Time'].max())"
   ]
  },
  {
   "cell_type": "markdown",
   "id": "d26e3585",
   "metadata": {},
   "source": [
    "La última semilla que germino ocurrio a las 84 horas. Para todas las semillas que no germinaron vamos a asignarles el valor de 96 horas (el término right censored nos dice que el evento de interés, Germinación, no ha ocurrido dentro de nuestra ventana de observación.) como el fin de las observaciones. FILLNA"
   ]
  },
  {
   "cell_type": "code",
   "execution_count": 163,
   "id": "e93c9be3",
   "metadata": {},
   "outputs": [],
   "source": [
    "melted_df.dropna(subset=['Time', 'observed'], inplace= True)"
   ]
  },
  {
   "cell_type": "markdown",
   "id": "b0c5a1f7",
   "metadata": {},
   "source": [
    "# Non-Parametric"
   ]
  },
  {
   "cell_type": "code",
   "execution_count": 164,
   "id": "9ae1b1d1",
   "metadata": {},
   "outputs": [],
   "source": [
    "from lifelines import KaplanMeierFitter\n",
    "from lifelines.statistics import pairwise_logrank_test"
   ]
  },
  {
   "cell_type": "code",
   "execution_count": 165,
   "id": "0768b852",
   "metadata": {},
   "outputs": [
    {
     "data": {
      "text/plain": [
       "15.0"
      ]
     },
     "execution_count": 165,
     "metadata": {},
     "output_type": "execute_result"
    }
   ],
   "source": [
    "# Calculate Median Survival Time\n",
    "kmf = KaplanMeierFitter(alpha=0.05) # calculate a 95% confidence interval\n",
    "kmf.fit(melted_df['Time'], melted_df['observed'])\n",
    "\n",
    "median_ = kmf.median_survival_time_\n",
    "median_"
   ]
  },
  {
   "cell_type": "code",
   "execution_count": 166,
   "id": "908fc083",
   "metadata": {},
   "outputs": [
    {
     "data": {
      "text/plain": [
       "<AxesSubplot:xlabel='timeline'>"
      ]
     },
     "execution_count": 166,
     "metadata": {},
     "output_type": "execute_result"
    },
    {
     "data": {
      "image/png": "[encoded data removed]",
      "text/plain": [
       "<Figure size 432x288 with 1 Axes>"
      ]
     },
     "metadata": {
      "needs_background": "light"
     },
     "output_type": "display_data"
    }
   ],
   "source": [
    "kmf.plot_survival_function()"
   ]
  },
  {
   "cell_type": "markdown",
   "id": "7cde6366",
   "metadata": {},
   "source": [
    "Porción de la población que sobrevive (no-germina) en un momento dado"
   ]
  },
  {
   "cell_type": "code",
   "execution_count": 126,
   "id": "dacba768",
   "metadata": {},
   "outputs": [
    {
     "data": {
      "text/plain": [
       "10    0.908868\n",
       "15    0.460069\n",
       "20    0.360118\n",
       "25    0.360118\n",
       "Name: KM_estimate, dtype: float64"
      ]
     },
     "execution_count": 126,
     "metadata": {},
     "output_type": "execute_result"
    }
   ],
   "source": [
    "kmf.predict([10, 15, 20, 25])"
   ]
  },
  {
   "cell_type": "markdown",
   "id": "c5b7bbed",
   "metadata": {},
   "source": [
    "Porción de la población que No-sobrevive (germina) en un momento dado"
   ]
  },
  {
   "cell_type": "code",
   "execution_count": 128,
   "id": "c7ac6c08",
   "metadata": {},
   "outputs": [
    {
     "name": "stdout",
     "output_type": "stream",
     "text": [
      "0.6398824105830476\n"
     ]
    }
   ],
   "source": [
    "print(1-kmf.predict(20))"
   ]
  },
  {
   "cell_type": "markdown",
   "id": "182c361b",
   "metadata": {},
   "source": [
    "### Examinar como varía la supervivencia\n",
    "\n",
    "El patrón general de supervivencia cuenta una historia bastante convincente sobre la germinación de las semillas de quinoa, pero puede ser interesante examinar cómo este patrón varía según el material T1, T9 y el tratamiento UV al que fue sometido.\n",
    "\n",
    "T1 : \n",
    "\n",
    "T9 :\n",
    "\n",
    "\n",
    "UV : 180 nm, 250 nm, 395 nm y 410 nm\n",
    "\n",
    "\n",
    "Al centrarnos en los atributos de las semillas y los tratamientos, es posible que podamos identificar variables que nos digan algo sobre la probabilidad de no germinación de las semillas de quinoa.\n"
   ]
  },
  {
   "cell_type": "code",
   "execution_count": 173,
   "id": "c9d96d9d",
   "metadata": {},
   "outputs": [],
   "source": [
    "def plot_survival(ax, label, time, observed):\n",
    "    kmf = KaplanMeierFitter()\n",
    "    kmf.fit(time, observed, label=label)\n",
    "    kmf.plot_survival_function(ax=ax, label=label)\n",
    "    \n",
    "    \n",
    "def median_survival(label, time, observed):\n",
    "    kmf = KaplanMeierFitter()\n",
    "    kmf.fit(time, observed, label=label)\n",
    "    print(label,kmf.median_survival_time_)    "
   ]
  },
  {
   "cell_type": "code",
   "execution_count": 174,
   "id": "aa094d36",
   "metadata": {},
   "outputs": [
    {
     "data": {
      "image/png": "[encoded data removed]",
      "text/plain": [
       "<Figure size 432x288 with 1 Axes>"
      ]
     },
     "metadata": {
      "needs_background": "light"
     },
     "output_type": "display_data"
    }
   ],
   "source": [
    "# Data for different measurements\n",
    "mat = ['T1','T9']\n",
    "\n",
    "# Create a subplot\n",
    "fig, ax = plt.subplots()\n",
    "\n",
    "\n",
    "\n",
    "for ma in mat:\n",
    "    time_data = melted_df[melted_df['Material'] == ma]['Time']\n",
    "    observed_data = melted_df[melted_df['Material'] == ma]['observed']\n",
    "    plot_survival(ax, ma, time_data, observed_data)\n",
    "    \n",
    "    \n",
    "# Customize the plot\n",
    "ax.set_xlabel('Tiempo [h]')\n",
    "ax.set_ylabel('Probabilidad de Supervivencia')\n",
    "#ax.set_title('Material T1')\n",
    "ax.legend()\n",
    "\n",
    "# Show the plot\n",
    "plt.show()    "
   ]
  },
  {
   "cell_type": "markdown",
   "id": "9b147303",
   "metadata": {},
   "source": [
    "Antes de intentar interpretar estas diferentes curvas, es importante que evalúemos si son estadísticamente diferentes entre sí. Comparando cada curva con las demás, podemos calcular la probabilidad de que estas curvas no difieran entre sí utilizando el **log-rank test**.\n",
    "\n",
    "- NOTA: Al agregar un argumento para $t_0$ a la siguiente llamada, puede calcular las mismas métricas para cada curva en un momento específico, en lugar de hacerlo en todos los momentos, como se muestra aquí"
   ]
  },
  {
   "cell_type": "code",
   "execution_count": 182,
   "id": "3a195e9e",
   "metadata": {},
   "outputs": [
    {
     "data": {
      "text/html": [
       "<div>\n",
       "<style scoped>\n",
       "    .dataframe tbody tr th:only-of-type {\n",
       "        vertical-align: middle;\n",
       "    }\n",
       "\n",
       "    .dataframe tbody tr th {\n",
       "        vertical-align: top;\n",
       "    }\n",
       "\n",
       "    .dataframe thead th {\n",
       "        text-align: right;\n",
       "    }\n",
       "</style>\n",
       "<table border=\"1\" class=\"dataframe\">\n",
       "  <thead>\n",
       "    <tr style=\"text-align: right;\">\n",
       "      <th></th>\n",
       "      <th></th>\n",
       "      <th>test_statistic</th>\n",
       "      <th>p</th>\n",
       "      <th>-log2(p)</th>\n",
       "    </tr>\n",
       "  </thead>\n",
       "  <tbody>\n",
       "    <tr>\n",
       "      <th>T1</th>\n",
       "      <th>T9</th>\n",
       "      <td>139.540944</td>\n",
       "      <td>3.354283e-32</td>\n",
       "      <td>104.555694</td>\n",
       "    </tr>\n",
       "  </tbody>\n",
       "</table>\n",
       "</div>"
      ],
      "text/plain": [
       "       test_statistic             p    -log2(p)\n",
       "T1 T9      139.540944  3.354283e-32  104.555694"
      ]
     },
     "execution_count": 182,
     "metadata": {},
     "output_type": "execute_result"
    }
   ],
   "source": [
    "from lifelines.statistics import logrank_test\n",
    "#results = logrank_test(durations_A=melted_df[melted_df['Material'] == 'T1']['Time'],durations_B=melted_df[melted_df['Material'] == 'T9']['Time'], event_observed_A=melted_df[melted_df['Material'] == 'T1']['observed'], event_observed_B=melted_df[melted_df['Material'] == 'T9']['observed'])\n",
    "log_ = pairwise_logrank_test(melted_df['Time'], melted_df['Material'], melted_df['observed'])#, t_0=13)\n",
    "log_.summary\n",
    "\n",
    "#results.p_value"
   ]
  },
  {
   "cell_type": "markdown",
   "id": "14b492d1",
   "metadata": {},
   "source": [
    "* Un p-value grande indica evidencia débil contra la hipótesis nula. (No se puede rechazar la hipótesis nula a un nivel de significancia de 0.05)\n",
    "\n",
    "* Un p-value pequeño indica evidencia fuerte contra la hipótesis nula. (Rechazas la hipótesis nula a un nivel de significancia de 0.05.)\n",
    "\n",
    "La hipótesis nula es que las semillas T1 y T9 tienen las mismas curvas de supervivencia. Dada esta hipótesis nula y el valor p que acabas de calcular, ¿qué puedes concluir?\n",
    "**Rechazas la hipótesis nula a un nivel de significancia de 0.05** \n",
    "\n",
    "En general y específicamente en la hora 15, el tiempo medio de supervivencia identificado anteriormente, la mayoría de estas curvas son significativamente diferentes entre sí (como lo indica que casi todos los valores de p son <0,05)."
   ]
  },
  {
   "cell_type": "code",
   "execution_count": 175,
   "id": "57012481",
   "metadata": {},
   "outputs": [
    {
     "name": "stdout",
     "output_type": "stream",
     "text": [
      "T1 16.0\n",
      "T9 13.0\n"
     ]
    }
   ],
   "source": [
    "for ma in mat:\n",
    "    time_data = melted_df[melted_df['Material'] == ma]['Time']\n",
    "    observed_data = melted_df[melted_df['Material'] == ma]['observed']\n",
    "    median_survival(ma, time_data, observed_data)"
   ]
  },
  {
   "cell_type": "code",
   "execution_count": 171,
   "id": "48e4ddbc",
   "metadata": {},
   "outputs": [
    {
     "data": {
      "image/png": "[encoded data removed]",
      "text/plain": [
       "<Figure size 432x288 with 1 Axes>"
      ]
     },
     "metadata": {
      "needs_background": "light"
     },
     "output_type": "display_data"
    }
   ],
   "source": [
    "# Data for different measurements\n",
    "measurements = ['T1_180','T1_250', 'T1_395', 'T1_410']\n",
    "colors = ['180 nm','250 nm', '395 nm', '410 nm']\n",
    "\n",
    "# Create a subplot\n",
    "fig, ax = plt.subplots()\n",
    "\n",
    "\n",
    "\n",
    "for measurement, color in zip(measurements, colors):\n",
    "    time_data = melted_df[melted_df['Measurement'] == measurement]['Time']\n",
    "    observed_data = melted_df[melted_df['Measurement'] == measurement]['observed']\n",
    "    plot_survival(ax, color, time_data, observed_data)\n",
    "\n",
    "# Customize the plot\n",
    "ax.set_xlabel('Tiempo [h]')\n",
    "ax.set_ylabel('Probabilidad de Supervivencia')\n",
    "ax.set_title('Material T1')\n",
    "ax.legend()\n",
    "\n",
    "# Show the plot\n",
    "plt.show()\n",
    "\n"
   ]
  },
  {
   "cell_type": "markdown",
   "id": "5cc8668a",
   "metadata": {},
   "source": []
  },
  {
   "cell_type": "code",
   "execution_count": 33,
   "id": "098db549",
   "metadata": {},
   "outputs": [],
   "source": []
  },
  {
   "cell_type": "code",
   "execution_count": 34,
   "id": "b4992a6d",
   "metadata": {},
   "outputs": [
    {
     "name": "stdout",
     "output_type": "stream",
     "text": [
      "180 nm 13.0\n",
      "250 nm 14.0\n",
      "395 nm 35.0\n",
      "410 nm 30.0\n"
     ]
    }
   ],
   "source": [
    "for measurement, color in zip(measurements, colors):\n",
    "    time_data = melted_df[melted_df['Measurement'] == measurement]['Time']\n",
    "    observed_data = melted_df[melted_df['Measurement'] == measurement]['observed']\n",
    "    median_survival(color, time_data, observed_data)"
   ]
  },
  {
   "cell_type": "code",
   "execution_count": 35,
   "id": "45a9aca0",
   "metadata": {},
   "outputs": [
    {
     "data": {
      "image/png": "[encoded data removed]",
      "text/plain": [
       "<Figure size 432x288 with 1 Axes>"
      ]
     },
     "metadata": {
      "needs_background": "light"
     },
     "output_type": "display_data"
    }
   ],
   "source": [
    "# Data for different measurements\n",
    "measurements = ['T9_180','T9_250', 'T9_395', 'T9_410']\n",
    "colors = ['180 nm','250 nm', '395 nm', '410 nm']\n",
    "\n",
    "# Create a subplot\n",
    "fig, ax = plt.subplots()\n",
    "\n",
    "for measurement, color in zip(measurements, colors):\n",
    "    time_data = melted_df[melted_df['Measurement'] == measurement]['Time']\n",
    "    observed_data = melted_df[melted_df['Measurement'] == measurement]['observed']\n",
    "    plot_survival(ax, color, time_data, observed_data)\n",
    "\n",
    "# Customize the plot\n",
    "ax.set_xlabel('Tiempo [h]')\n",
    "ax.set_ylabel('Probabilidad de Supervivencia')\n",
    "ax.set_title('Material T9')\n",
    "ax.legend()\n",
    "\n",
    "# Show the plot\n",
    "plt.show()"
   ]
  },
  {
   "cell_type": "code",
   "execution_count": 36,
   "id": "598ff11b",
   "metadata": {},
   "outputs": [
    {
     "name": "stdout",
     "output_type": "stream",
     "text": [
      "180 nm 13.0\n",
      "250 nm 13.0\n",
      "395 nm 15.0\n",
      "410 nm 28.0\n"
     ]
    }
   ],
   "source": [
    "for measurement, color in zip(measurements, colors):\n",
    "    time_data = melted_df[melted_df['Measurement'] == measurement]['Time']\n",
    "    observed_data = melted_df[melted_df['Measurement'] == measurement]['observed']\n",
    "    median_survival(color, time_data, observed_data)"
   ]
  },
  {
   "cell_type": "markdown",
   "id": "1050e2e4",
   "metadata": {},
   "source": [
    "- Use the **log-rank test** to determine if survival curves are statistically equivalent\n",
    "- The log-rank test is a chi-square test that is used to test the **null hypothesis** that two or more survival curves are statistically equivalent"
   ]
  },
  {
   "cell_type": "code",
   "execution_count": 184,
   "id": "c452eb4b",
   "metadata": {},
   "outputs": [
    {
     "data": {
      "text/html": [
       "<div>\n",
       "<style scoped>\n",
       "    .dataframe tbody tr th:only-of-type {\n",
       "        vertical-align: middle;\n",
       "    }\n",
       "\n",
       "    .dataframe tbody tr th {\n",
       "        vertical-align: top;\n",
       "    }\n",
       "\n",
       "    .dataframe thead th {\n",
       "        text-align: right;\n",
       "    }\n",
       "</style>\n",
       "<table border=\"1\" class=\"dataframe\">\n",
       "  <thead>\n",
       "    <tr style=\"text-align: right;\">\n",
       "      <th></th>\n",
       "      <th></th>\n",
       "      <th>test_statistic</th>\n",
       "      <th>p</th>\n",
       "      <th>-log2(p)</th>\n",
       "    </tr>\n",
       "  </thead>\n",
       "  <tbody>\n",
       "    <tr>\n",
       "      <th rowspan=\"7\" valign=\"top\">T1_180</th>\n",
       "      <th>T1_250</th>\n",
       "      <td>9.496432</td>\n",
       "      <td>2.058718e-03</td>\n",
       "      <td>8.924038</td>\n",
       "    </tr>\n",
       "    <tr>\n",
       "      <th>T1_395</th>\n",
       "      <td>155.368779</td>\n",
       "      <td>1.163067e-35</td>\n",
       "      <td>116.049549</td>\n",
       "    </tr>\n",
       "    <tr>\n",
       "      <th>T1_410</th>\n",
       "      <td>151.956096</td>\n",
       "      <td>6.477711e-35</td>\n",
       "      <td>113.571999</td>\n",
       "    </tr>\n",
       "    <tr>\n",
       "      <th>T9_180</th>\n",
       "      <td>4.834912</td>\n",
       "      <td>2.788906e-02</td>\n",
       "      <td>5.164157</td>\n",
       "    </tr>\n",
       "    <tr>\n",
       "      <th>T9_250</th>\n",
       "      <td>0.203980</td>\n",
       "      <td>6.515272e-01</td>\n",
       "      <td>0.618103</td>\n",
       "    </tr>\n",
       "    <tr>\n",
       "      <th>T9_395</th>\n",
       "      <td>9.514246</td>\n",
       "      <td>2.038829e-03</td>\n",
       "      <td>8.938044</td>\n",
       "    </tr>\n",
       "    <tr>\n",
       "      <th>T9_410</th>\n",
       "      <td>14.839408</td>\n",
       "      <td>1.170636e-04</td>\n",
       "      <td>13.060419</td>\n",
       "    </tr>\n",
       "    <tr>\n",
       "      <th rowspan=\"6\" valign=\"top\">T1_250</th>\n",
       "      <th>T1_395</th>\n",
       "      <td>375.841767</td>\n",
       "      <td>1.000661e-83</td>\n",
       "      <td>275.719079</td>\n",
       "    </tr>\n",
       "    <tr>\n",
       "      <th>T1_410</th>\n",
       "      <td>220.107195</td>\n",
       "      <td>8.570411e-50</td>\n",
       "      <td>162.997040</td>\n",
       "    </tr>\n",
       "    <tr>\n",
       "      <th>T9_180</th>\n",
       "      <td>1.734870</td>\n",
       "      <td>1.877902e-01</td>\n",
       "      <td>2.412807</td>\n",
       "    </tr>\n",
       "    <tr>\n",
       "      <th>T9_250</th>\n",
       "      <td>44.362059</td>\n",
       "      <td>2.729256e-11</td>\n",
       "      <td>35.092701</td>\n",
       "    </tr>\n",
       "    <tr>\n",
       "      <th>T9_395</th>\n",
       "      <td>201.615098</td>\n",
       "      <td>9.276586e-46</td>\n",
       "      <td>149.595098</td>\n",
       "    </tr>\n",
       "    <tr>\n",
       "      <th>T9_410</th>\n",
       "      <td>122.228113</td>\n",
       "      <td>2.057661e-28</td>\n",
       "      <td>91.972982</td>\n",
       "    </tr>\n",
       "    <tr>\n",
       "      <th rowspan=\"5\" valign=\"top\">T1_395</th>\n",
       "      <th>T1_410</th>\n",
       "      <td>1.055962</td>\n",
       "      <td>3.041380e-01</td>\n",
       "      <td>1.717202</td>\n",
       "    </tr>\n",
       "    <tr>\n",
       "      <th>T9_180</th>\n",
       "      <td>256.490495</td>\n",
       "      <td>9.989050e-58</td>\n",
       "      <td>189.351482</td>\n",
       "    </tr>\n",
       "    <tr>\n",
       "      <th>T9_250</th>\n",
       "      <td>416.284925</td>\n",
       "      <td>1.570669e-92</td>\n",
       "      <td>304.966005</td>\n",
       "    </tr>\n",
       "    <tr>\n",
       "      <th>T9_395</th>\n",
       "      <td>170.502014</td>\n",
       "      <td>5.748077e-39</td>\n",
       "      <td>127.032116</td>\n",
       "    </tr>\n",
       "    <tr>\n",
       "      <th>T9_410</th>\n",
       "      <td>121.318163</td>\n",
       "      <td>3.255097e-28</td>\n",
       "      <td>91.311286</td>\n",
       "    </tr>\n",
       "    <tr>\n",
       "      <th rowspan=\"4\" valign=\"top\">T1_410</th>\n",
       "      <th>T9_180</th>\n",
       "      <td>264.031088</td>\n",
       "      <td>2.269137e-59</td>\n",
       "      <td>194.811614</td>\n",
       "    </tr>\n",
       "    <tr>\n",
       "      <th>T9_250</th>\n",
       "      <td>208.125617</td>\n",
       "      <td>3.522180e-47</td>\n",
       "      <td>154.314152</td>\n",
       "    </tr>\n",
       "    <tr>\n",
       "      <th>T9_395</th>\n",
       "      <td>159.975944</td>\n",
       "      <td>1.145261e-36</td>\n",
       "      <td>119.393735</td>\n",
       "    </tr>\n",
       "    <tr>\n",
       "      <th>T9_410</th>\n",
       "      <td>249.948540</td>\n",
       "      <td>2.664762e-56</td>\n",
       "      <td>184.613967</td>\n",
       "    </tr>\n",
       "    <tr>\n",
       "      <th rowspan=\"3\" valign=\"top\">T9_180</th>\n",
       "      <th>T9_250</th>\n",
       "      <td>33.588582</td>\n",
       "      <td>6.809125e-09</td>\n",
       "      <td>27.129883</td>\n",
       "    </tr>\n",
       "    <tr>\n",
       "      <th>T9_395</th>\n",
       "      <td>56.826111</td>\n",
       "      <td>4.761026e-14</td>\n",
       "      <td>44.255721</td>\n",
       "    </tr>\n",
       "    <tr>\n",
       "      <th>T9_410</th>\n",
       "      <td>45.048077</td>\n",
       "      <td>1.922560e-11</td>\n",
       "      <td>35.598181</td>\n",
       "    </tr>\n",
       "    <tr>\n",
       "      <th rowspan=\"2\" valign=\"top\">T9_250</th>\n",
       "      <th>T9_395</th>\n",
       "      <td>390.032081</td>\n",
       "      <td>8.145039e-87</td>\n",
       "      <td>285.981823</td>\n",
       "    </tr>\n",
       "    <tr>\n",
       "      <th>T9_410</th>\n",
       "      <td>76.406775</td>\n",
       "      <td>2.308579e-18</td>\n",
       "      <td>58.587701</td>\n",
       "    </tr>\n",
       "    <tr>\n",
       "      <th>T9_395</th>\n",
       "      <th>T9_410</th>\n",
       "      <td>30.343061</td>\n",
       "      <td>3.619996e-08</td>\n",
       "      <td>24.719437</td>\n",
       "    </tr>\n",
       "  </tbody>\n",
       "</table>\n",
       "</div>"
      ],
      "text/plain": [
       "               test_statistic             p    -log2(p)\n",
       "T1_180 T1_250        9.496432  2.058718e-03    8.924038\n",
       "       T1_395      155.368779  1.163067e-35  116.049549\n",
       "       T1_410      151.956096  6.477711e-35  113.571999\n",
       "       T9_180        4.834912  2.788906e-02    5.164157\n",
       "       T9_250        0.203980  6.515272e-01    0.618103\n",
       "       T9_395        9.514246  2.038829e-03    8.938044\n",
       "       T9_410       14.839408  1.170636e-04   13.060419\n",
       "T1_250 T1_395      375.841767  1.000661e-83  275.719079\n",
       "       T1_410      220.107195  8.570411e-50  162.997040\n",
       "       T9_180        1.734870  1.877902e-01    2.412807\n",
       "       T9_250       44.362059  2.729256e-11   35.092701\n",
       "       T9_395      201.615098  9.276586e-46  149.595098\n",
       "       T9_410      122.228113  2.057661e-28   91.972982\n",
       "T1_395 T1_410        1.055962  3.041380e-01    1.717202\n",
       "       T9_180      256.490495  9.989050e-58  189.351482\n",
       "       T9_250      416.284925  1.570669e-92  304.966005\n",
       "       T9_395      170.502014  5.748077e-39  127.032116\n",
       "       T9_410      121.318163  3.255097e-28   91.311286\n",
       "T1_410 T9_180      264.031088  2.269137e-59  194.811614\n",
       "       T9_250      208.125617  3.522180e-47  154.314152\n",
       "       T9_395      159.975944  1.145261e-36  119.393735\n",
       "       T9_410      249.948540  2.664762e-56  184.613967\n",
       "T9_180 T9_250       33.588582  6.809125e-09   27.129883\n",
       "       T9_395       56.826111  4.761026e-14   44.255721\n",
       "       T9_410       45.048077  1.922560e-11   35.598181\n",
       "T9_250 T9_395      390.032081  8.145039e-87  285.981823\n",
       "       T9_410       76.406775  2.308579e-18   58.587701\n",
       "T9_395 T9_410       30.343061  3.619996e-08   24.719437"
      ]
     },
     "execution_count": 184,
     "metadata": {},
     "output_type": "execute_result"
    }
   ],
   "source": [
    "# Run log-rank test to compare seeds with different treatments\n",
    "log_rank = pairwise_logrank_test(melted_df['Time'], melted_df['Measurement'], melted_df['observed'])#, t_0=184)\n",
    "log_rank.summary"
   ]
  },
  {
   "cell_type": "markdown",
   "id": "b52b3847",
   "metadata": {},
   "source": [
    "Esto nos dice que las diferentes representaciones en el cuadro anterior son significativas. Es muy interesante que algunos tratamientos en la semillas tienen tasas de germinación muy diferentes. \n",
    "\n",
    "Aquí está la comparación pairwise, limitada a aquellas **curvas que no difieren lo suficiente entre sí** como para ser consideradas estadísticamente diferentes."
   ]
  },
  {
   "cell_type": "markdown",
   "id": "5ccaeeee",
   "metadata": {},
   "source": [
    "\n"
   ]
  },
  {
   "cell_type": "code",
   "execution_count": 185,
   "id": "a3f44e25",
   "metadata": {},
   "outputs": [
    {
     "data": {
      "text/html": [
       "<div>\n",
       "<style scoped>\n",
       "    .dataframe tbody tr th:only-of-type {\n",
       "        vertical-align: middle;\n",
       "    }\n",
       "\n",
       "    .dataframe tbody tr th {\n",
       "        vertical-align: top;\n",
       "    }\n",
       "\n",
       "    .dataframe thead th {\n",
       "        text-align: right;\n",
       "    }\n",
       "</style>\n",
       "<table border=\"1\" class=\"dataframe\">\n",
       "  <thead>\n",
       "    <tr style=\"text-align: right;\">\n",
       "      <th></th>\n",
       "      <th></th>\n",
       "      <th>test_statistic</th>\n",
       "      <th>p</th>\n",
       "      <th>-log2(p)</th>\n",
       "    </tr>\n",
       "  </thead>\n",
       "  <tbody>\n",
       "    <tr>\n",
       "      <th>T1_180</th>\n",
       "      <th>T9_250</th>\n",
       "      <td>0.203980</td>\n",
       "      <td>0.651527</td>\n",
       "      <td>0.618103</td>\n",
       "    </tr>\n",
       "    <tr>\n",
       "      <th>T1_250</th>\n",
       "      <th>T9_180</th>\n",
       "      <td>1.734870</td>\n",
       "      <td>0.187790</td>\n",
       "      <td>2.412807</td>\n",
       "    </tr>\n",
       "    <tr>\n",
       "      <th>T1_395</th>\n",
       "      <th>T1_410</th>\n",
       "      <td>1.055962</td>\n",
       "      <td>0.304138</td>\n",
       "      <td>1.717202</td>\n",
       "    </tr>\n",
       "  </tbody>\n",
       "</table>\n",
       "</div>"
      ],
      "text/plain": [
       "               test_statistic         p  -log2(p)\n",
       "T1_180 T9_250        0.203980  0.651527  0.618103\n",
       "T1_250 T9_180        1.734870  0.187790  2.412807\n",
       "T1_395 T1_410        1.055962  0.304138  1.717202"
      ]
     },
     "execution_count": 185,
     "metadata": {},
     "output_type": "execute_result"
    }
   ],
   "source": [
    "# Probability Curves are the same \n",
    "summary = log_rank.summary\n",
    "summary[summary['p']>=0.05]"
   ]
  },
  {
   "cell_type": "markdown",
   "id": "23ea54fa",
   "metadata": {},
   "source": [
    "A partir de los resultados del Log Rank test, parecería que las semillas con estos tratamientos T1_180 y T9_250, T1_250 y T9_180 no están diferenciados estadísticamente (al igual que T1_395 y T1_410)"
   ]
  },
  {
   "cell_type": "markdown",
   "id": "ecc80bb7",
   "metadata": {},
   "source": [
    "# Parametric\n",
    "\n",
    "Model time-to-event data with parametric models. Select the best survival model for your data. \n",
    "\n",
    "### The Weibull distribution\n",
    "A continuous probability distribution that models time-to-event data very well ( but originally applied to model particle size distribution)\n",
    "\n",
    "$$f(x;\\lambda, k)=\\frac{k}{\\lambda}\\left(\\frac{x}{\\lambda}\\right)^{k-1} e^{-(x/\\lambda)^k}$$\n",
    "\n",
    "$$x>=0, k>0, \\lambda>0$$\n",
    "\n",
    "* k (or $$\\rho$$): Determines the shape\n",
    "* $$\\lambda$$ : Determines the scale (indicates when 63.2% of the population has experienced the event)\n",
    "\n",
    "\n",
    "###### Survival function\n",
    "$$S(t)=e^{-(t/\\lambda)^{\\rho}}$$\n",
    "\n",
    "- When $$k<1$$, germinación/event rate decreases over time\n",
    "- When $$k=1$$, germinación/event rate is constant over time\n",
    "- When $$k>1$$, germinación/event rate increases over time"
   ]
  },
  {
   "cell_type": "code",
   "execution_count": 39,
   "id": "514b308b",
   "metadata": {},
   "outputs": [
    {
     "data": {
      "text/html": [
       "<div>\n",
       "<style scoped>\n",
       "    .dataframe tbody tr th:only-of-type {\n",
       "        vertical-align: middle;\n",
       "    }\n",
       "\n",
       "    .dataframe tbody tr th {\n",
       "        vertical-align: top;\n",
       "    }\n",
       "\n",
       "    .dataframe thead th {\n",
       "        text-align: right;\n",
       "    }\n",
       "</style>\n",
       "<table border=\"1\" class=\"dataframe\">\n",
       "  <thead>\n",
       "    <tr style=\"text-align: right;\">\n",
       "      <th></th>\n",
       "      <th>Measurement</th>\n",
       "      <th>Time</th>\n",
       "      <th>Material</th>\n",
       "      <th>UV</th>\n",
       "      <th>observed</th>\n",
       "    </tr>\n",
       "  </thead>\n",
       "  <tbody>\n",
       "    <tr>\n",
       "      <th>0</th>\n",
       "      <td>T1_180</td>\n",
       "      <td>12.0</td>\n",
       "      <td>T1</td>\n",
       "      <td>180</td>\n",
       "      <td>1</td>\n",
       "    </tr>\n",
       "    <tr>\n",
       "      <th>1</th>\n",
       "      <td>T1_180</td>\n",
       "      <td>28.0</td>\n",
       "      <td>T1</td>\n",
       "      <td>180</td>\n",
       "      <td>1</td>\n",
       "    </tr>\n",
       "    <tr>\n",
       "      <th>2</th>\n",
       "      <td>T1_180</td>\n",
       "      <td>12.0</td>\n",
       "      <td>T1</td>\n",
       "      <td>180</td>\n",
       "      <td>1</td>\n",
       "    </tr>\n",
       "    <tr>\n",
       "      <th>3</th>\n",
       "      <td>T1_180</td>\n",
       "      <td>12.0</td>\n",
       "      <td>T1</td>\n",
       "      <td>180</td>\n",
       "      <td>1</td>\n",
       "    </tr>\n",
       "    <tr>\n",
       "      <th>4</th>\n",
       "      <td>T1_180</td>\n",
       "      <td>28.0</td>\n",
       "      <td>T1</td>\n",
       "      <td>180</td>\n",
       "      <td>1</td>\n",
       "    </tr>\n",
       "  </tbody>\n",
       "</table>\n",
       "</div>"
      ],
      "text/plain": [
       "  Measurement  Time Material   UV  observed\n",
       "0      T1_180  12.0       T1  180         1\n",
       "1      T1_180  28.0       T1  180         1\n",
       "2      T1_180  12.0       T1  180         1\n",
       "3      T1_180  12.0       T1  180         1\n",
       "4      T1_180  28.0       T1  180         1"
      ]
     },
     "execution_count": 39,
     "metadata": {},
     "output_type": "execute_result"
    }
   ],
   "source": [
    "# Histograma de germinación de semillas\n",
    "\n",
    "melted_df.head()"
   ]
  },
  {
   "cell_type": "code",
   "execution_count": 28,
   "id": "ef9d63fc",
   "metadata": {},
   "outputs": [
    {
     "data": {
      "text/plain": [
       "Text(0.5, 1.0, 'Semillas Quinoa')"
      ]
     },
     "execution_count": 28,
     "metadata": {},
     "output_type": "execute_result"
    },
    {
     "data": {
      "image/png": "[encoded data removed]",
      "text/plain": [
       "<Figure size 432x288 with 1 Axes>"
      ]
     },
     "metadata": {
      "needs_background": "light"
     },
     "output_type": "display_data"
    }
   ],
   "source": [
    "sns.histplot(data= melted_df, x='Time', bins=int(np.sqrt(len(melted_df)))) #binwidth=1)\n",
    "plt.xlabel('Time')\n",
    "plt.ylabel('Frecuencia')\n",
    "plt.title('Semillas Quinoa')"
   ]
  },
  {
   "cell_type": "code",
   "execution_count": 29,
   "id": "6efddf41",
   "metadata": {},
   "outputs": [],
   "source": [
    "from lifelines import WeibullFitter"
   ]
  },
  {
   "cell_type": "code",
   "execution_count": 30,
   "id": "755d0dd0",
   "metadata": {},
   "outputs": [
    {
     "data": {
      "text/plain": [
       "<lifelines.WeibullFitter:\"Weibull_estimate\", fitted with 2041 total observations, 0 right-censored observations>"
      ]
     },
     "execution_count": 30,
     "metadata": {},
     "output_type": "execute_result"
    }
   ],
   "source": [
    "wb = WeibullFitter()\n",
    "wb.fit(melted_df['Time'], melted_df['observed'])"
   ]
  },
  {
   "cell_type": "code",
   "execution_count": 31,
   "id": "96aca3fa",
   "metadata": {},
   "outputs": [
    {
     "data": {
      "image/png": "[encoded data removed]",
      "text/plain": [
       "<Figure size 432x288 with 1 Axes>"
      ]
     },
     "metadata": {
      "needs_background": "light"
     },
     "output_type": "display_data"
    }
   ],
   "source": [
    "# Access .survival_function_, .lambda_, .rho_, .summary, .predict()\n",
    "wb.survival_function_.plot()\n",
    "plt.grid()"
   ]
  },
  {
   "cell_type": "code",
   "execution_count": 32,
   "id": "b35367e6",
   "metadata": {},
   "outputs": [
    {
     "name": "stdout",
     "output_type": "stream",
     "text": [
      "23.106500914450137 1.9926707181997552\n"
     ]
    }
   ],
   "source": [
    "# Event increases as time goes on\n",
    "print(wb.lambda_, wb.rho_)"
   ]
  },
  {
   "cell_type": "code",
   "execution_count": 33,
   "id": "f8664c28",
   "metadata": {},
   "outputs": [
    {
     "name": "stdout",
     "output_type": "stream",
     "text": [
      "0.655238709949283\n"
     ]
    }
   ],
   "source": [
    "print(wb.predict(15))"
   ]
  },
  {
   "cell_type": "code",
   "execution_count": 92,
   "id": "5e4c249d",
   "metadata": {},
   "outputs": [
    {
     "data": {
      "image/png": "[encoded data removed]",
      "text/plain": [
       "<Figure size 432x288 with 1 Axes>"
      ]
     },
     "metadata": {
      "needs_background": "light"
     },
     "output_type": "display_data"
    }
   ],
   "source": [
    "def plot_weibull(ax, label, time, observed):\n",
    "    wb = WeibullFitter()\n",
    "    wb.fit(time, observed, label=label)\n",
    "    wb.plot_survival_function(ax=ax, label=label)\n",
    "\n",
    "# Data for different measurements\n",
    "measurements = ['T1_180','T1_250', 'T1_395', 'T1_410']\n",
    "colors = ['180 nm','250 nm', '395 nm', '410 nm']\n",
    "\n",
    "# Create a subplot\n",
    "fig, ax = plt.subplots()\n",
    "\n",
    "for measurement, color in zip(measurements, colors):\n",
    "    time_data = melted_df[melted_df['Measurement'] == measurement]['Time']\n",
    "    observed_data = melted_df[melted_df['Measurement'] == measurement]['observed']\n",
    "    plot_weibull(ax, color, time_data, observed_data)\n",
    "\n",
    "# Customize the plot\n",
    "ax.set_xlabel('Tiempo [h]')\n",
    "ax.set_ylabel('Probabilidad de Supervivencia')\n",
    "ax.set_title('Material T1')\n",
    "ax.legend()\n",
    "\n",
    "# Show the plot\n",
    "plt.show()"
   ]
  },
  {
   "cell_type": "code",
   "execution_count": 40,
   "id": "d47ca99c",
   "metadata": {},
   "outputs": [],
   "source": [
    "def weibull_lr(label, time, observed):\n",
    "    wb = WeibullFitter()\n",
    "    wb.fit(time, observed, label=label)\n",
    "    print(label,wb.lambda_, wb.rho_)"
   ]
  },
  {
   "cell_type": "code",
   "execution_count": 41,
   "id": "3b817e18",
   "metadata": {},
   "outputs": [
    {
     "name": "stdout",
     "output_type": "stream",
     "text": [
      "180 nm 22.22923638700099 1.8439628985174288\n",
      "250 nm 16.318406327444436 1.651196793005826\n",
      "395 nm 31.615323837348754 2.5498563024010963\n",
      "410 nm 31.41080860885849 4.773741410656731\n"
     ]
    }
   ],
   "source": [
    "for measurement, color in zip(measurements, colors):\n",
    "    time_data = melted_df[melted_df['Measurement'] == measurement]['Time']\n",
    "    observed_data = melted_df[melted_df['Measurement'] == measurement]['observed']\n",
    "    weibull_lr(color, time_data, observed_data)"
   ]
  },
  {
   "cell_type": "code",
   "execution_count": 89,
   "id": "d0ca0b0b",
   "metadata": {},
   "outputs": [
    {
     "data": {
      "image/png": "[encoded data removed]",
      "text/plain": [
       "<Figure size 432x288 with 1 Axes>"
      ]
     },
     "metadata": {
      "needs_background": "light"
     },
     "output_type": "display_data"
    }
   ],
   "source": [
    "# Data for different measurements\n",
    "measurements = ['T9_180','T9_250', 'T9_395', 'T9_410']\n",
    "colors = ['180 nm','250 nm', '395 nm', '410 nm']\n",
    "\n",
    "\n",
    "# Create a subplot\n",
    "fig, ax = plt.subplots()\n",
    "\n",
    "for measurement, color in zip(measurements, colors):\n",
    "    time_data = melted_df[melted_df['Measurement'] == measurement]['Time']\n",
    "    observed_data = melted_df[melted_df['Measurement'] == measurement]['observed']\n",
    "    plot_weibull(ax, color, time_data, observed_data)\n",
    "\n",
    "# Customize the plot\n",
    "ax.set_xlabel('Tiempo [h]')\n",
    "ax.set_ylabel('Probabilidad de Supervivencia')\n",
    "ax.set_title('Material T9')\n",
    "ax.legend()\n",
    "\n",
    "# Show the plot\n",
    "plt.show()"
   ]
  },
  {
   "cell_type": "code",
   "execution_count": 43,
   "id": "f8490585",
   "metadata": {},
   "outputs": [
    {
     "name": "stdout",
     "output_type": "stream",
     "text": [
      "180 nm 19.146347903839587 2.107493246982851\n",
      "250 nm 15.495691167662805 2.030149392307839\n",
      "395 nm 20.466255128078636 1.9012433365327575\n",
      "410 nm 25.886891873123965 3.5951479122346903\n"
     ]
    }
   ],
   "source": [
    "for measurement, color in zip(measurements, colors):\n",
    "    time_data = melted_df[melted_df['Measurement'] == measurement]['Time']\n",
    "    observed_data = melted_df[melted_df['Measurement'] == measurement]['observed']\n",
    "    weibull_lr(color, time_data, observed_data)"
   ]
  },
  {
   "cell_type": "markdown",
   "id": "bf72261c",
   "metadata": {},
   "source": [
    "# The Accelerated Failure Time (AFT) model\n",
    "\n",
    "Population A: $$S_A(t)$$\n",
    "Population B: $$S_B(t)$$\n",
    "\n",
    "$$S_A(t)=S_B(t*\\lambda)$$\n",
    "\n",
    "* $$S_B(t)$$ is speeding up (accelerating) or slowing down (decelerating) along $$S_A(t)$$ by a factor of $$\\lambda$$"
   ]
  },
  {
   "cell_type": "code",
   "execution_count": 63,
   "id": "9ae1efe9",
   "metadata": {},
   "outputs": [],
   "source": [
    "from lifelines import WeibullAFTFitter"
   ]
  },
  {
   "cell_type": "code",
   "execution_count": 56,
   "id": "c94ec0f1",
   "metadata": {},
   "outputs": [],
   "source": [
    "melted_df[['Measurement','Material']]=melted_df[['Measurement','Material']].astype('category')"
   ]
  },
  {
   "cell_type": "code",
   "execution_count": 57,
   "id": "78d40a17",
   "metadata": {},
   "outputs": [],
   "source": [
    "melted_df['Mat_dummy'] = melted_df.Material.cat.codes\n",
    "melted_df['Measu_dummy'] = melted_df.Measurement.cat.codes\n",
    "melted_df['UV_dummy'] = melted_df.UV.cat.codes\n",
    "#.dtypes#"
   ]
  },
  {
   "cell_type": "code",
   "execution_count": 75,
   "id": "6cd65310",
   "metadata": {},
   "outputs": [],
   "source": [
    "#melted_aft=melted_df[['Time', 'observed', 'Mat_dummy','Measu_dummy', 'UV_dummy']].copy()\n",
    "\n",
    "melted_aft=melted_df[['Time', 'observed', 'Measu_dummy']].copy()"
   ]
  },
  {
   "cell_type": "code",
   "execution_count": 76,
   "id": "70be6a6a",
   "metadata": {},
   "outputs": [],
   "source": [
    "aft = WeibullAFTFitter()"
   ]
  },
  {
   "cell_type": "code",
   "execution_count": 77,
   "id": "3d9366ab",
   "metadata": {},
   "outputs": [
    {
     "data": {
      "text/plain": [
       "<lifelines.WeibullAFTFitter: fitted with 2041 total observations, 0 right-censored observations>"
      ]
     },
     "execution_count": 77,
     "metadata": {},
     "output_type": "execute_result"
    }
   ],
   "source": [
    "aft.fit(df=melted_aft, duration_col='Time', event_col='observed')"
   ]
  },
  {
   "cell_type": "code",
   "execution_count": 78,
   "id": "28a2e37f",
   "metadata": {},
   "outputs": [
    {
     "name": "stdout",
     "output_type": "stream",
     "text": [
      "                         coef  exp(coef)  se(coef)  coef lower 95%  \\\n",
      "param   covariate                                                    \n",
      "lambda_ Measu_dummy -0.016487   0.983649  0.004945       -0.026179   \n",
      "        Intercept    3.198483  24.495349  0.021249        3.156836   \n",
      "rho_    Intercept    0.694843   2.003394  0.015671        0.664128   \n",
      "\n",
      "                     coef upper 95%  exp(coef) lower 95%  exp(coef) upper 95%  \\\n",
      "param   covariate                                                               \n",
      "lambda_ Measu_dummy       -0.006794             0.974161             0.993229   \n",
      "        Intercept          3.240131            23.496130            25.537061   \n",
      "rho_    Intercept          0.725558             1.942796             2.065883   \n",
      "\n",
      "                     cmp to           z         p   -log2(p)  \n",
      "param   covariate                                             \n",
      "lambda_ Measu_dummy     0.0   -3.333789  0.000857  10.188894  \n",
      "        Intercept       0.0  150.523051  0.000000        inf  \n",
      "rho_    Intercept       0.0   44.339255  0.000000        inf  \n"
     ]
    }
   ],
   "source": [
    "print(aft.summary)"
   ]
  },
  {
   "cell_type": "code",
   "execution_count": 79,
   "id": "eba62ad0",
   "metadata": {},
   "outputs": [
    {
     "data": {
      "text/plain": [
       "<AxesSubplot:xlabel='log(accelerated failure rate) (95% CI)'>"
      ]
     },
     "execution_count": 79,
     "metadata": {},
     "output_type": "execute_result"
    },
    {
     "data": {
      "image/png": "[encoded data removed]",
      "text/plain": [
       "<Figure size 432x288 with 1 Axes>"
      ]
     },
     "metadata": {
      "needs_background": "light"
     },
     "output_type": "display_data"
    }
   ],
   "source": [
    "aft.plot()"
   ]
  },
  {
   "cell_type": "code",
   "execution_count": 80,
   "id": "a992ad90",
   "metadata": {},
   "outputs": [
    {
     "data": {
      "text/plain": [
       "<AxesSubplot:>"
      ]
     },
     "execution_count": 80,
     "metadata": {},
     "output_type": "execute_result"
    },
    {
     "data": {
      "image/png": "[encoded data removed]",
      "text/plain": [
       "<Figure size 432x288 with 1 Axes>"
      ]
     },
     "metadata": {
      "needs_background": "light"
     },
     "output_type": "display_data"
    }
   ],
   "source": [
    "#aft.plot_partial_effects_on_outcome(covariates='Mat_dummy', values=[0, 1])\n",
    "#aft.plot_partial_effects_on_outcome(covariates='UV_dummy', values=[0, 1, 2, 3])\n",
    "aft.plot_partial_effects_on_outcome(covariates='Measu_dummy', values=[0, 4, 1, 5, 2, 6, 3, 7])"
   ]
  },
  {
   "cell_type": "code",
   "execution_count": 73,
   "id": "494ede0d",
   "metadata": {},
   "outputs": [
    {
     "data": {
      "text/plain": [
       "array([0, 4, 1, 5, 2, 6, 3, 7], dtype=int8)"
      ]
     },
     "execution_count": 73,
     "metadata": {},
     "output_type": "execute_result"
    }
   ],
   "source": [
    "melted_aft.Measu_dummy.unique()"
   ]
  },
  {
   "cell_type": "markdown",
   "id": "d71e0c12",
   "metadata": {},
   "source": [
    "## Other distributios and model selection\n",
    "\n",
    "Many parametric models are commonly used for survival analysis, including the **Weibull model**, the **exponential model**, the **gamma model**, the **log normal model**, and the **log logistic model**. \n",
    "\n",
    "The **Akaike Information Criterion**, or **AIC metric**, is an estimator of prediction error and the quality of a model. It estimates the amount of information loss by any model and penalizes models with many parameters. Given a set of models, we could **compare their AIC values**. The model with the **lowest AIC value is the preferred model**."
   ]
  },
  {
   "cell_type": "code",
   "execution_count": 82,
   "id": "068ba6eb",
   "metadata": {},
   "outputs": [
    {
     "name": "stdout",
     "output_type": "stream",
     "text": [
      "<lifelines.SplineFitter:\"SplineFitter: 3 internal knot\", fitted with 2041 total observations, 0 right-censored observations>\n"
     ]
    }
   ],
   "source": [
    "from lifelines.utils import find_best_parametric_model\n",
    "\n",
    "\n",
    "best_model, best_aic_=find_best_parametric_model(event_times=melted_df['Time'],\n",
    "                                                 event_observed=melted_df['observed'],\n",
    "                                                scoring_method=\"AIC\")\n",
    "print(best_model)"
   ]
  },
  {
   "cell_type": "code",
   "execution_count": 94,
   "id": "dff99eed",
   "metadata": {},
   "outputs": [
    {
     "name": "stdout",
     "output_type": "stream",
     "text": [
      "180 nm <lifelines.PiecewiseExponentialFitter:\"PiecewiseExponentialFitter: 3 breakpoint\", fitted with 238 total observations, 0 right-censored observations>\n",
      "250 nm <lifelines.PiecewiseExponentialFitter:\"PiecewiseExponentialFitter: 3 breakpoint\", fitted with 258 total observations, 0 right-censored observations>\n",
      "395 nm <lifelines.PiecewiseExponentialFitter:\"PiecewiseExponentialFitter: 2 breakpoint\", fitted with 254 total observations, 0 right-censored observations>\n",
      "410 nm <lifelines.PiecewiseExponentialFitter:\"PiecewiseExponentialFitter: 2 breakpoint\", fitted with 260 total observations, 0 right-censored observations>\n"
     ]
    }
   ],
   "source": [
    "def bestmodel(label, time, observed):\n",
    "    best_model, best_aic_=find_best_parametric_model(event_times=time,\n",
    "                                                 event_observed=observed,\n",
    "                                                scoring_method=\"AIC\")\n",
    "    print(label,best_model)\n",
    "    \n",
    "    \n",
    "for measurement, color in zip(measurements, colors):\n",
    "    time_data = melted_df[melted_df['Measurement'] == measurement]['Time']\n",
    "    observed_data = melted_df[melted_df['Measurement'] == measurement]['observed']\n",
    "    bestmodel(color, time_data, observed_data)"
   ]
  },
  {
   "cell_type": "code",
   "execution_count": 93,
   "id": "ca94a917",
   "metadata": {},
   "outputs": [
    {
     "data": {
      "text/plain": [
       "['T1_180', 'T1_250', 'T1_395', 'T1_410']"
      ]
     },
     "execution_count": 93,
     "metadata": {},
     "output_type": "execute_result"
    }
   ],
   "source": [
    "measurements"
   ]
  },
  {
   "cell_type": "code",
   "execution_count": 85,
   "id": "43de4cc8",
   "metadata": {},
   "outputs": [
    {
     "data": {
      "text/plain": [
       "['180 nm', '250 nm', '395 nm', '410 nm']"
      ]
     },
     "execution_count": 85,
     "metadata": {},
     "output_type": "execute_result"
    }
   ],
   "source": [
    "colors"
   ]
  },
  {
   "cell_type": "code",
   "execution_count": null,
   "id": "2be67db0",
   "metadata": {},
   "outputs": [],
   "source": []
  }
 ],
 "metadata": {
  "kernelspec": {
   "display_name": "Python 3",
   "language": "python",
   "name": "python3"
  },
  "language_info": {
   "codemirror_mode": {
    "name": "ipython",
    "version": 3
   },
   "file_extension": ".py",
   "mimetype": "text/x-python",
   "name": "python",
   "nbconvert_exporter": "python",
   "pygments_lexer": "ipython3",
   "version": "3.8.8"
  }
 },
 "nbformat": 4,
 "nbformat_minor": 5
}
